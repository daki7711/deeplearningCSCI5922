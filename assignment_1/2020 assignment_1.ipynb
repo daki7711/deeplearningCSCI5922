{
 "cells": [
  {
   "cell_type": "markdown",
   "metadata": {
    "colab_type": "text",
    "id": "yI6QRw_VVhOI"
   },
   "source": [
    "# <center> Neural Networks and Deep Learning (CSCI 5922)</center>\n",
    "# <center> Spring 2020 </center>"
   ]
  },
  {
   "cell_type": "markdown",
   "metadata": {
    "colab_type": "text",
    "id": "oyyZSLCIVhOK"
   },
   "source": [
    "**Name:** David Young-Jae Kim"
   ]
  },
  {
   "cell_type": "markdown",
   "metadata": {
    "colab_type": "text",
    "id": "B7u4l5SIVhOL"
   },
   "source": [
    "## Goal"
   ]
  },
  {
   "cell_type": "markdown",
   "metadata": {
    "colab_type": "text",
    "id": "O7mbNY0lVhOL"
   },
   "source": [
    "The goal of this assignment is to introduce neural networks in terms of ideas you are already familiar with:  linear regression and classification"
   ]
  },
  {
   "cell_type": "markdown",
   "metadata": {
    "colab_type": "text",
    "id": "i5ZAXp1mVhOM"
   },
   "source": [
    "## Dataset"
   ]
  },
  {
   "cell_type": "markdown",
   "metadata": {
    "colab_type": "text",
    "id": "w-ZVWvA4VhON"
   },
   "source": [
    "You are given a dataset with 2 input variables ($x_1$, $x_2$) and an output variable ($y$)."
   ]
  },
  {
   "cell_type": "code",
   "execution_count": 1,
   "metadata": {
    "colab": {},
    "colab_type": "code",
    "id": "qluUEgHYVhOO"
   },
   "outputs": [],
   "source": [
    "from sklearn.datasets import make_regression\n",
    "from matplotlib import pyplot as plt\n",
    "import numpy as np\n",
    "import os\n",
    "from numpy.linalg import inv\n",
    "\n",
    "# Load data\n",
    "data = np.loadtxt(os.path.join('data', 'assign1_data.txt'),  delimiter=',')\n",
    "X = data[:,:2]\n",
    "X=np.append(X, np.resize(np.ones(len(X)+1),(-1,1)), axis=1)\n",
    "y = data[:, 2]\n",
    "z = data[:, 3]"
   ]
  },
  {
   "cell_type": "markdown",
   "metadata": {
    "colab_type": "text",
    "id": "ZiLhj-CvVhOQ"
   },
   "source": [
    "## Part 1"
   ]
  },
  {
   "cell_type": "markdown",
   "metadata": {
    "colab_type": "text",
    "id": "1zNUNcC0VhOR"
   },
   "source": [
    "Write a program to find the exact least squares solution to $y = w_1 x_1 + w_2 x_2 + b$ for the above dataset, using the normal equation."
   ]
  },
  {
   "cell_type": "markdown",
   "metadata": {
    "colab_type": "text",
    "id": "txzccR6-VhOS"
   },
   "source": [
    "Complete the following function below and use it to answer questions (A) and (B). \n",
    "\n",
    "**Note:** Please do not change the interface of the given function."
   ]
  },
  {
   "cell_type": "code",
   "execution_count": 2,
   "metadata": {
    "colab": {},
    "colab_type": "code",
    "id": "gFAcJL6VVhOS"
   },
   "outputs": [],
   "source": [
    "def least_squares(X, y):\n",
    "    \"\"\"\n",
    "    Finds the Least Squares solution\n",
    "    \n",
    "    Parameters\n",
    "    ----------\n",
    "    X : NumPy array of features (size : no of examples X features)\n",
    "    y : Numpy array of output value 'y' (size : no of examples X 1)\n",
    "    \n",
    "    Returns\n",
    "    -------\n",
    "    w : solution array\n",
    "    \"\"\"\n",
    "    return np.matmul(np.matmul(inv(np.matmul(X.T,X)),X.T),y)\n",
    "    #pass"
   ]
  },
  {
   "cell_type": "markdown",
   "metadata": {
    "colab_type": "text",
    "id": "ZcO-nAfxVhOV"
   },
   "source": [
    "(A) Report the values of $w_1$, $w_2$, and $b$."
   ]
  },
  {
   "cell_type": "code",
   "execution_count": 3,
   "metadata": {
    "colab": {},
    "colab_type": "code",
    "id": "5sXuI05yVhOV"
   },
   "outputs": [
    {
     "name": "stdout",
     "output_type": "stream",
     "text": [
      "The values of w1 is -2.044242595137635 w2 is 3.996860168659326 and the bias is -0.9242908118675917\n"
     ]
    }
   ],
   "source": [
    "w=least_squares(X,y)\n",
    "\n",
    "print(\"The values of w1 is\",w[0],\"w2 is\",w[1],\"and the bias is\",w[2])"
   ]
  },
  {
   "cell_type": "markdown",
   "metadata": {
    "colab_type": "text",
    "id": "S-jYwaEbVhOY"
   },
   "source": [
    "(B) What function or method did you use to find the least-squares solution?"
   ]
  },
  {
   "cell_type": "markdown",
   "metadata": {
    "colab_type": "text",
    "id": "OF8A7mYEVhOY"
   },
   "source": [
    "In this problem we approched it using the general linear regression, we used the equation\n",
    "$$\\beta = (X^TX)^{-1}X^Ty$$"
   ]
  },
  {
   "cell_type": "markdown",
   "metadata": {
    "colab_type": "text",
    "id": "_qNGRMnLVhOZ"
   },
   "source": [
    "## Part 2"
   ]
  },
  {
   "cell_type": "markdown",
   "metadata": {
    "colab_type": "text",
    "id": "K2C1Pj1xVhOZ"
   },
   "source": [
    "Implement linear regression of y on X via first-order optimization of the least-squares objective. Write a program that determines the coefficients {w1,w2,b}. Implement stochastic gradient descent, batch gradient descent, and mini-batch gradient descent. You will need to experiment with updating rules, step sizes (i.e. learning rates), stopping criteria, etc. Experiment to find settings that lead to solutions with the fewest number of sweeps through the data."
   ]
  },
  {
   "cell_type": "markdown",
   "metadata": {
    "colab_type": "text",
    "id": "Dz9LPxNsVhOa"
   },
   "source": [
    "Complete the following functions below and use them to answer questions (A), (B) and (C). You may find the shuffle function from scikit-learn useful. \n",
    "\n",
    "Use the following hyperparameters:\n",
    "\n",
    "Learning rates = [0.001, 0.05, 0.01, 0.05, 0.1, 0.3]\n",
    "\n",
    "MaxIter = [10, 50, 100, 500, 1000, 5000, 10000, 25000, 50000]\n",
    "\n",
    "**Note:** Please do not change the interface of the given functions."
   ]
  },
  {
   "cell_type": "code",
   "execution_count": 4,
   "metadata": {
    "colab": {},
    "colab_type": "code",
    "id": "9rCKocs6VhOb"
   },
   "outputs": [],
   "source": [
    "from sklearn.utils import shuffle\n",
    "\n",
    "# function that returns a TRUE value if the error difference is smaller than a certain error rate\n",
    "def error_difference(before_error,current_error):\n",
    "    if before_error == 0:\n",
    "        return False\n",
    "    error_rate = 0.0001\n",
    "    return abs(current_error - before_error) / before_error <= error_rate\n",
    "\n",
    "# function to compute hypothesis / predictions \n",
    "def predictions(X, w): \n",
    "    return np.dot(X, w) \n",
    "  \n",
    "# function to compute gradient of error function w.r.t. weight w \n",
    "def gradient(X, y, w): \n",
    "    grad = np.dot(X.T, (predictions(X, w) - y)) \n",
    "    return grad \n",
    "  \n",
    "# function to compute the error for current values of weight w\n",
    "def R(X, y, w):\n",
    "    return (1/len(y))*((predictions(X,w) - y)**2).sum()\n",
    "\n",
    "def online_epoch(X, y, w, alpha):\n",
    "    \"\"\"\n",
    "    One epoch of stochastic gradient descent (i.e. one sweep of the dataset).\n",
    "    \n",
    "    Parameters\n",
    "    ----------\n",
    "    X : NumPy array of features (size : no of examples X features)\n",
    "    y : Numpy array of class labels (size : no of examples X 1)\n",
    "    w : array of coefficients from the previous iteration\n",
    "    \n",
    "    Returns\n",
    "    -------\n",
    "    Coefficients of the model (after updating)\n",
    "    \"\"\"\n",
    "    error = 0\n",
    "    \n",
    "    for i in range(len(y)):\n",
    "        w = w - alpha * (np.dot(w,X[i]) - y[i]) * X[i]\n",
    "        error += R(X, y, w)\n",
    "    \n",
    "    error /= len(y)\n",
    "    \n",
    "    return error, w\n",
    "    #pass\n",
    "\n",
    "def batch_update(X, y, w, alpha):\n",
    "    \"\"\"\n",
    "    One iteration of full-batch gradient descent.\n",
    "    \n",
    "    Parameters\n",
    "    ----------\n",
    "    X : NumPy array of features (size : no of examples X features)\n",
    "    y : Numpy array of class labels (size : no of examples X 1)\n",
    "    w : array of coefficients from the previous iteration\n",
    "    \n",
    "    Returns\n",
    "    -------\n",
    "    Coefficients of the model (after updating)\n",
    "    \"\"\"\n",
    "    w = w - alpha * (1/len(y)) * gradient(X, y, w)\n",
    "    \n",
    "    return R(X, y, w), w \n",
    "    #pass\n",
    "\n",
    "def mini_batch_update(X, y, w, alpha, batch_size):\n",
    "    \"\"\"\n",
    "    One epoch of mini-batch SGD over the entire dataset (i.e. one sweep of the dataset).\n",
    "    \n",
    "    Parameters\n",
    "    ----------\n",
    "    X : NumPy array of features (size : no of examples X features)\n",
    "    y : Numpy array of class labels (size : no of examples X 1)\n",
    "    w : array of coefficients from the previous iteration\n",
    "    batch_size : size of the batch for gradient update\n",
    "    \n",
    "    Returns\n",
    "    -------\n",
    "    Coefficients of the model (after updating)\n",
    "    \"\"\"\n",
    "    batch_error = 0\n",
    "    for i in range(0, len(y), batch_size):\n",
    "        if i+batch_size < len(y):\n",
    "            error, w = batch_update(X[i:i+batch_size], y[i:i+batch_size], w, alpha)\n",
    "        else:\n",
    "            error, w = batch_update(X[i:], y[i:], w, alpha)\n",
    "        batch_error += error\n",
    "    return batch_error / (len(y) / batch_size), w\n",
    "    #pass\n",
    "\n",
    "def least_squares_grad_desc(X, y, maxIter, alpha, update, *batch_size):\n",
    "    \"\"\"\n",
    "    Implements least squares with gradient descent.\n",
    "    \n",
    "    Parameters\n",
    "    ----------\n",
    "    X : NumPy array of features (size : no of examples X features)\n",
    "    y : Numpy array of class labels (size : no of examples X 1)\n",
    "    maxIter : Maximum number of iterations allowed\n",
    "    alpha : Learning rate\n",
    "    update : update function to utilize (one of online, batch, mini-batch)\n",
    "    batch_size : number of examples in a batch (only useful when update = mini_batch_update)\n",
    "    \n",
    "    Returns\n",
    "    -------\n",
    "    Coefficients of the model (after updating)\n",
    "    \n",
    "    Note : *batch_size is an optional argument and only to be used when doing mini-batch Gradient Descent \n",
    "    \"\"\"\n",
    "    error_list=[float('inf')]\n",
    "    w = np.random.rand(len(X[0]))\n",
    "    for i in range(maxIter):\n",
    "        X, y = shuffle(X, y)\n",
    "        if update == mini_batch_update:\n",
    "            error,w = update(X, y, w, alpha, batch_size[0])\n",
    "        else:\n",
    "            error,w = update(X, y, w, alpha)\n",
    "        \n",
    "        if i>2 and error_difference(error_list[-1],error):\n",
    "            return error_list,w\n",
    "        error_list.append(error)\n",
    "    return error_list , w\n",
    "    #pass"
   ]
  },
  {
   "cell_type": "markdown",
   "metadata": {
    "colab_type": "text",
    "id": "zYMi7e8ZVhOd"
   },
   "source": [
    "(A) Report the values of $w_1$, $w_2$, and $b$. "
   ]
  },
  {
   "cell_type": "code",
   "execution_count": 5,
   "metadata": {
    "colab": {},
    "colab_type": "code",
    "id": "uJ2UpCAbVhOd"
   },
   "outputs": [
    {
     "name": "stdout",
     "output_type": "stream",
     "text": [
      "For Learning rate of 0.001 and iteration of 10 we get [ 0.67396381  0.1810625  -0.1634202 ] with error 1.5786035627928963\n",
      "For Learning rate of 0.001 and iteration of 50 we get [-0.5458997   1.39333913 -0.31119472] with error 0.6703888534339193\n",
      "For Learning rate of 0.001 and iteration of 100 we get [-0.98189576  2.24532213 -0.53737325] with error 0.3321190098978073\n",
      "For Learning rate of 0.001 and iteration of 500 we get [-2.0014511   3.83393367 -0.86201842] with error 0.04150291993346551\n",
      "For Learning rate of 0.001 and iteration of 1000 we get [-1.99354907  3.87954049 -0.88895696] with error 0.040583736227223596\n",
      "For Learning rate of 0.001 and iteration of 5000 we get [-2.00510398  3.89816667 -0.89266685] with error 0.04022831108974605\n",
      "For Learning rate of 0.001 and iteration of 10000 we get [-2.0148148   3.9040951  -0.89098381] with error 0.04011096428288975\n",
      "For Learning rate of 0.001 and iteration of 25000 we get [-2.0126109   3.91029364 -0.895622  ] with error 0.04002932803578081\n",
      "For Learning rate of 0.001 and iteration of 50000 we get [-2.0098753   3.89210253 -0.88697431] with error 0.040304249525314584\n",
      "For Learning rate of 0.05 and iteration of 10 we get [-1.99211597  3.87293961 -0.91868353] with error 0.04266868080262417\n",
      "For Learning rate of 0.05 and iteration of 50 we get [-2.05379404  3.98149131 -0.95247033] with error 0.040508076122423464\n",
      "For Learning rate of 0.05 and iteration of 100 we get [-2.06039576  3.98391022 -0.95005929] with error 0.04014754105419241\n",
      "For Learning rate of 0.05 and iteration of 500 we get [-2.02951167  4.00548588 -0.89430584] with error 0.040408942426062563\n",
      "For Learning rate of 0.05 and iteration of 1000 we get [-2.04430943  3.98605329 -0.93262309] with error 0.04035180521884754\n",
      "For Learning rate of 0.05 and iteration of 5000 we get [-2.05979988  3.98346651 -0.94918825] with error 0.03989576149993325\n",
      "For Learning rate of 0.05 and iteration of 10000 we get [-2.04705795  3.9979327  -0.93388571] with error 0.04017437147585514\n",
      "For Learning rate of 0.05 and iteration of 25000 we get [-2.03810067  3.94542962 -0.92028456] with error 0.040807570067483444\n",
      "For Learning rate of 0.05 and iteration of 50000 we get [-2.03345232  4.00498171 -0.89573341] with error 0.04030460922923487\n",
      "For Learning rate of 0.01 and iteration of 10 we get [-0.77079076  1.98757637 -0.50584977] with error 0.46023245504793064\n",
      "For Learning rate of 0.01 and iteration of 50 we get [-1.99412143  3.85159822 -0.87363516] with error 0.04127824443821576\n",
      "For Learning rate of 0.01 and iteration of 100 we get [-2.04338941  3.99014042 -0.92502408] with error 0.03948983531666177\n",
      "For Learning rate of 0.01 and iteration of 500 we get [-2.02568028  3.9433333  -0.90047618] with error 0.03973731487619138\n",
      "For Learning rate of 0.01 and iteration of 1000 we get [-2.04258025  3.98862973 -0.91989155] with error 0.03946570423800965\n",
      "For Learning rate of 0.01 and iteration of 5000 we get [-2.02031136  3.9039473  -0.8896697 ] with error 0.04026276446696928\n",
      "For Learning rate of 0.01 and iteration of 10000 we get [-2.0406558   3.98850207 -0.92279321] with error 0.039449167941266725\n",
      "For Learning rate of 0.01 and iteration of 25000 we get [-2.04109701  3.99342005 -0.91970832] with error 0.03951156964801105\n",
      "For Learning rate of 0.01 and iteration of 50000 we get [-2.03383019  3.95446167 -0.90258971] with error 0.03971885438611472\n",
      "For Learning rate of 0.05 and iteration of 10 we get [-1.97309168  3.8575768  -0.90104654] with error 0.043136935753807046\n",
      "For Learning rate of 0.05 and iteration of 50 we get [-2.04474477  3.99734018 -0.95016988] with error 0.04033124512088377\n",
      "For Learning rate of 0.05 and iteration of 100 we get [-2.0321308   4.00518843 -0.90177268] with error 0.04093468750437374\n",
      "For Learning rate of 0.05 and iteration of 500 we get [-2.02195647  4.00482765 -0.88796323] with error 0.040777138464598385\n",
      "For Learning rate of 0.05 and iteration of 1000 we get [-2.058332    3.9814344  -0.94563969] with error 0.040346016939796996\n",
      "For Learning rate of 0.05 and iteration of 5000 we get [-2.03009711  4.00841689 -0.90029732] with error 0.04015043452217361\n",
      "For Learning rate of 0.05 and iteration of 10000 we get [-2.05372625  3.99888082 -0.92770174] with error 0.04016385716430407\n",
      "For Learning rate of 0.05 and iteration of 25000 we get [-2.04309573  3.99898242 -0.91928622] with error 0.04021177444147552\n",
      "For Learning rate of 0.05 and iteration of 50000 we get [-2.06162127  3.99572448 -0.96100242] with error 0.04056752610159292\n",
      "For Learning rate of 0.1 and iteration of 10 we get [-2.01784518  4.00184133 -0.89868815] with error 0.041143294337567235\n",
      "For Learning rate of 0.1 and iteration of 50 we get [-2.0175056   4.03280449 -0.88117449] with error 0.04210283728498473\n",
      "For Learning rate of 0.1 and iteration of 100 we get [-2.06343712  3.97318387 -0.95590666] with error 0.04243967494459724\n",
      "For Learning rate of 0.1 and iteration of 500 we get [-2.03641399  4.009382   -0.8730095 ] with error 0.041101292047655946\n",
      "For Learning rate of 0.1 and iteration of 1000 we get [-2.0671919   3.97773808 -0.90098536] with error 0.042640159453141306\n",
      "For Learning rate of 0.1 and iteration of 5000 we get [-2.05710563  3.97222659 -0.93956488] with error 0.041769763458296916\n",
      "For Learning rate of 0.1 and iteration of 10000 we get [-2.04208506  4.0109444  -0.90978559] with error 0.04160065762014392\n",
      "For Learning rate of 0.1 and iteration of 25000 we get [-2.07149615  3.9915934  -0.95535264] with error 0.04211223730742567\n",
      "For Learning rate of 0.1 and iteration of 50000 we get [-2.04464878  3.99853589 -0.92789875] with error 0.041337175988152695\n",
      "For Learning rate of 0.3 and iteration of 10 we get [-2.16300238  4.1109669  -0.9108634 ] with error 0.05099649488279765\n",
      "For Learning rate of 0.3 and iteration of 50 we get [-2.10644521  3.96745732 -0.75569844] with error 0.05219498247443933\n",
      "For Learning rate of 0.3 and iteration of 100 we get [-2.13965984  4.06903752 -0.95602142] with error 0.05110763169218112\n",
      "For Learning rate of 0.3 and iteration of 500 we get [-2.08123926  3.98013731 -0.86157086] with error 0.052709194251109155\n",
      "For Learning rate of 0.3 and iteration of 1000 we get [-1.97084945  4.07012884 -0.82167841] with error 0.04910820606237347\n",
      "For Learning rate of 0.3 and iteration of 5000 we get [-2.11404373  4.00822245 -1.08985938] with error 0.05255007005755756\n",
      "For Learning rate of 0.3 and iteration of 10000 we get [-2.16668658  3.96056363 -0.9359907 ] with error 0.05230967948192466\n",
      "For Learning rate of 0.3 and iteration of 25000 we get [-1.9348828   3.95762023 -0.86133545] with error 0.05315331374271331\n",
      "For Learning rate of 0.3 and iteration of 50000 we get [-1.97532222  4.07962863 -0.79750534] with error 0.051183720993146234\n"
     ]
    }
   ],
   "source": [
    "Learning_rates = [0.001, 0.05, 0.01, 0.05, 0.1, 0.3]\n",
    "MaxIter = [10, 50, 100, 500, 1000, 5000, 10000, 25000, 50000]\n",
    "\n",
    "for l in Learning_rates:\n",
    "    for m in MaxIter:\n",
    "        error_list, w = least_squares_grad_desc(X, y, m, l, online_epoch)\n",
    "        print(\"For Learning rate of \"+str(l)+\" and iteration of \"+str(m)+\" we get \"+str(w)+\" with error \"+str(error_list[-1]))"
   ]
  },
  {
   "cell_type": "code",
   "execution_count": 6,
   "metadata": {
    "colab": {},
    "colab_type": "code",
    "id": "WWht3FM2VhOf"
   },
   "outputs": [
    {
     "name": "stdout",
     "output_type": "stream",
     "text": [
      "For Learning rate of 0.001 and iteration of 10 we get [0.26893111 0.12531372 0.73025289] with error 2.141983869329461\n",
      "For Learning rate of 0.001 and iteration of 50 we get [0.94973317 0.43521726 0.77008172] with error 3.2738006404311357\n",
      "For Learning rate of 0.001 and iteration of 100 we get [0.14507833 0.3757823  0.26563674] with error 1.4657610434495232\n",
      "For Learning rate of 0.001 and iteration of 500 we get [ 0.36741724  0.63916967 -0.01661177] with error 1.354042426251642\n",
      "For Learning rate of 0.001 and iteration of 1000 we get [ 0.44481211  0.711908   -0.1823053 ] with error 1.2818072033605414\n",
      "For Learning rate of 0.001 and iteration of 5000 we get [-0.69156181  1.16421246 -0.1250666 ] with error 0.7328503027578969\n",
      "For Learning rate of 0.001 and iteration of 10000 we get [-0.96286459  2.19796945 -0.52275997] with error 0.34469914874323804\n",
      "For Learning rate of 0.001 and iteration of 25000 we get [-1.5621466   2.7619753  -0.52514568] with error 0.16495960777903204\n",
      "For Learning rate of 0.001 and iteration of 50000 we get [-1.43204962  2.84679753 -0.63002086] with error 0.15795923757355904\n",
      "For Learning rate of 0.05 and iteration of 10 we get [-0.0707845   0.31822232  0.03091595] with error 1.2584822553298833\n",
      "For Learning rate of 0.05 and iteration of 50 we get [-0.13516791  1.0463782  -0.31940251] with error 0.8926672539532062\n",
      "For Learning rate of 0.05 and iteration of 100 we get [-0.24960871  1.34046936 -0.42482316] with error 0.7473317374580114\n",
      "For Learning rate of 0.05 and iteration of 500 we get [-1.65057954  3.20037264 -0.70610283] with error 0.09481634189740458\n",
      "For Learning rate of 0.05 and iteration of 1000 we get [-1.99973801  3.86052615 -0.87608594] with error 0.04089775295019771\n",
      "For Learning rate of 0.05 and iteration of 5000 we get [-2.01400028  3.91028986 -0.89462222] with error 0.040018536264798614\n",
      "For Learning rate of 0.05 and iteration of 10000 we get [-2.01019245  3.91155802 -0.89707424] with error 0.04001441258104843\n",
      "For Learning rate of 0.05 and iteration of 25000 we get [-2.00620033  3.91286685 -0.89963441] with error 0.04001342679664569\n",
      "For Learning rate of 0.05 and iteration of 50000 we get [-2.01155313  3.91083293 -0.89605977] with error 0.04001906676905552\n",
      "For Learning rate of 0.01 and iteration of 10 we get [ 0.64183628  0.66024285 -0.00889959] with error 1.5614351320099134\n",
      "For Learning rate of 0.01 and iteration of 50 we get [-0.17153967  0.32572893  0.57118815] with error 1.5558089035254818\n",
      "For Learning rate of 0.01 and iteration of 100 we get [0.28258914 0.29477308 0.14374039] with error 1.4708066238095834\n",
      "For Learning rate of 0.01 and iteration of 500 we get [-0.66069091  1.39040032 -0.25503577] with error 0.6476488282333456\n",
      "For Learning rate of 0.01 and iteration of 1000 we get [-0.68561382  2.13945573 -0.62458603] with error 0.4030356296228625\n",
      "For Learning rate of 0.01 and iteration of 5000 we get [-1.95597374  3.80256774 -0.86738398] with error 0.04262940878046269\n",
      "For Learning rate of 0.01 and iteration of 10000 we get [-1.97929361  3.79465015 -0.85229048] with error 0.04268230136645065\n",
      "For Learning rate of 0.01 and iteration of 25000 we get [-1.95642577  3.80226124 -0.8670136 ] with error 0.04263381201020498\n",
      "For Learning rate of 0.01 and iteration of 50000 we get [-1.95990596  3.80096437 -0.86470247] with error 0.042638578721950086\n",
      "For Learning rate of 0.05 and iteration of 10 we get [-0.13850167  0.80394372  0.43812104] with error 1.4649167990382443\n",
      "For Learning rate of 0.05 and iteration of 50 we get [-0.44393899  0.55806305  0.08684309] with error 1.0566734860843838\n",
      "For Learning rate of 0.05 and iteration of 100 we get [-0.6513253   1.4003208  -0.26489113] with error 0.6454007316599848\n",
      "For Learning rate of 0.05 and iteration of 500 we get [-1.67665806  3.21979024 -0.70360013] with error 0.09144248443315244\n",
      "For Learning rate of 0.05 and iteration of 1000 we get [-1.98123252  3.85529393 -0.88220786] with error 0.04110721225390056\n",
      "For Learning rate of 0.05 and iteration of 5000 we get [-2.01269478  3.91047215 -0.89533449] with error 0.04002008029602976\n",
      "For Learning rate of 0.05 and iteration of 10000 we get [-2.01226369  3.91079678 -0.89570416] with error 0.04001722477553413\n",
      "For Learning rate of 0.05 and iteration of 25000 we get [-2.01171535  3.9109314  -0.89603285] with error 0.04001725927984569\n",
      "For Learning rate of 0.05 and iteration of 50000 we get [-2.00582795  3.91290006 -0.89982803] with error 0.04001460196823894\n",
      "For Learning rate of 0.1 and iteration of 10 we get [ 0.16054529  0.38145227 -0.01603171] with error 1.3051254454572883\n",
      "For Learning rate of 0.1 and iteration of 50 we get [-0.40462515  1.05490206 -0.20588669] with error 0.8292004972200995\n",
      "For Learning rate of 0.1 and iteration of 100 we get [-1.01595968  2.06355571 -0.42921184] with error 0.37427411721507897\n",
      "For Learning rate of 0.1 and iteration of 500 we get [-1.98058905  3.85276977 -0.8812297 ] with error 0.0411649619093866\n",
      "For Learning rate of 0.1 and iteration of 1000 we get [-2.02356315  3.93582578 -0.90306888] with error 0.03971261014251357\n",
      "For Learning rate of 0.1 and iteration of 5000 we get [-2.02700525  3.9349278  -0.90097867] with error 0.03971535464906507\n",
      "For Learning rate of 0.1 and iteration of 10000 we get [-2.01915597  3.93751093 -0.90601739] with error 0.039707563716837126\n",
      "For Learning rate of 0.1 and iteration of 25000 we get [-2.02525038  3.93531947 -0.90201067] with error 0.03971429842852626\n",
      "For Learning rate of 0.1 and iteration of 50000 we get [-2.02631289  3.93537796 -0.90153616] with error 0.03971207526622618\n",
      "For Learning rate of 0.3 and iteration of 10 we get [-0.11899104  1.07328926 -0.34898962] with error 0.8846368588784038\n",
      "For Learning rate of 0.3 and iteration of 50 we get [-1.38071432  2.60907966 -0.53350373] with error 0.20589582061926223\n",
      "For Learning rate of 0.3 and iteration of 100 we get [-1.7983216   3.41038437 -0.74277756] with error 0.06814335130873397\n",
      "For Learning rate of 0.3 and iteration of 500 we get [-2.03525491  3.96196129 -0.91081008] with error 0.03950823166676944\n",
      "For Learning rate of 0.3 and iteration of 1000 we get [-2.03123168  3.9630101  -0.91325279] with error 0.03950671459501225\n",
      "For Learning rate of 0.3 and iteration of 5000 we get [-2.03526406  3.96188522 -0.91076706] with error 0.039508646102407306\n",
      "For Learning rate of 0.3 and iteration of 10000 we get [-2.03510487  3.96150863 -0.91065111] with error 0.03951084952919755\n",
      "For Learning rate of 0.3 and iteration of 25000 we get [-2.03495341  3.96198654 -0.91096601] with error 0.039508303024621376\n",
      "For Learning rate of 0.3 and iteration of 50000 we get [-2.03335475  3.96188597 -0.91167358] with error 0.039510229622060654\n"
     ]
    }
   ],
   "source": [
    "for l in Learning_rates:\n",
    "    for m in MaxIter:\n",
    "        error_list, w = least_squares_grad_desc(X, y, m, l, batch_update)\n",
    "        print(\"For Learning rate of \"+str(l)+\" and iteration of \"+str(m)+\" we get \"+str(w)+\" with error \"+str(error_list[-1]))"
   ]
  },
  {
   "cell_type": "code",
   "execution_count": 7,
   "metadata": {
    "colab": {},
    "colab_type": "code",
    "id": "Vf1YmHkPVhOh"
   },
   "outputs": [
    {
     "name": "stdout",
     "output_type": "stream",
     "text": [
      "For Learning rate of 0.001 and iteration of 10 we get [0.42469512 0.66791531 0.15038508] with error 1.561066505421379\n",
      "For Learning rate of 0.001 and iteration of 50 we get [0.37706748 0.13071032 0.00779763] with error 1.5032212979732618\n",
      "For Learning rate of 0.001 and iteration of 100 we get [ 0.23871279  0.33557748 -0.06454965] with error 1.341486747538992\n",
      "For Learning rate of 0.001 and iteration of 500 we get [-0.36405122  1.20278192 -0.30044253] with error 0.7764558999936\n",
      "For Learning rate of 0.001 and iteration of 1000 we get [-0.88766656  1.77462345 -0.34315171] with error 0.478513526327617\n",
      "For Learning rate of 0.001 and iteration of 5000 we get [-1.85636465  3.5844381  -0.80374154] with error 0.05392139800963904\n",
      "For Learning rate of 0.001 and iteration of 10000 we get [-1.86504449  3.59386323 -0.80440989] with error 0.05317628107311632\n",
      "For Learning rate of 0.001 and iteration of 25000 we get [-1.85439849  3.59687806 -0.8109791 ] with error 0.05321674052441176\n",
      "For Learning rate of 0.001 and iteration of 50000 we get [-1.8792345   3.63334873 -0.81775386] with error 0.05066922130231919\n",
      "For Learning rate of 0.05 and iteration of 10 we get [-0.66212823  1.26327777 -0.19303272] with error 0.7110848068964287\n",
      "For Learning rate of 0.05 and iteration of 50 we get [-1.68836617  3.24730887 -0.71621179] with error 0.08884205988725727\n",
      "For Learning rate of 0.05 and iteration of 100 we get [-1.99918477  3.85516338 -0.87277384] with error 0.04091737120922713\n",
      "For Learning rate of 0.05 and iteration of 500 we get [-1.9740705   3.82065187 -0.87001227] with error 0.04172512650150417\n",
      "For Learning rate of 0.05 and iteration of 1000 we get [-2.04321644  3.99699863 -0.92169166] with error 0.039147956108318685\n",
      "For Learning rate of 0.05 and iteration of 5000 we get [-2.00376584  3.91909976 -0.90599887] with error 0.03965871969852044\n",
      "For Learning rate of 0.05 and iteration of 10000 we get [-1.99997004  3.86895472 -0.87749815] with error 0.04043299475859734\n",
      "For Learning rate of 0.05 and iteration of 25000 we get [-2.02859225  3.96813717 -0.91335184] with error 0.03918462793974346\n",
      "For Learning rate of 0.05 and iteration of 50000 we get [-2.02811291  3.93896656 -0.90702602] with error 0.03945343104117549\n",
      "For Learning rate of 0.01 and iteration of 10 we get [ 0.3936578   0.55665307 -0.097091  ] with error 1.3447726638340112\n",
      "For Learning rate of 0.01 and iteration of 50 we get [-0.18417319  1.49277365 -0.53426969] with error 0.7108044860912405\n",
      "For Learning rate of 0.01 and iteration of 100 we get [-1.07748414  1.93183374 -0.33300116] with error 0.4075286752320243\n",
      "For Learning rate of 0.01 and iteration of 500 we get [-1.98379232  3.84393833 -0.87521815] with error 0.04131990515711483\n",
      "For Learning rate of 0.01 and iteration of 1000 we get [-1.94935031  3.75389373 -0.8458557 ] with error 0.0442524669641353\n",
      "For Learning rate of 0.01 and iteration of 5000 we get [-1.97026428  3.77361769 -0.84606571] with error 0.04338160256724904\n",
      "For Learning rate of 0.01 and iteration of 10000 we get [-1.94380386  3.79485134 -0.86956509] with error 0.042939486699454354\n",
      "For Learning rate of 0.01 and iteration of 25000 we get [-1.95305213  3.78646696 -0.860884  ] with error 0.04311892121547828\n",
      "For Learning rate of 0.01 and iteration of 50000 we get [-1.95443666  3.81238936 -0.87303234] with error 0.0423291249207717\n",
      "For Learning rate of 0.05 and iteration of 10 we get [-0.15031229  1.15080419 -0.37829191] with error 0.866058202363291\n",
      "For Learning rate of 0.05 and iteration of 50 we get [-1.67624901  3.14389773 -0.66191969] with error 0.10154259717616901\n",
      "For Learning rate of 0.05 and iteration of 100 we get [-1.97765608  3.84346498 -0.87690147] with error 0.04116293361606886\n",
      "For Learning rate of 0.05 and iteration of 500 we get [-2.0383627   3.97480257 -0.91184762] with error 0.03905456828388884\n",
      "For Learning rate of 0.05 and iteration of 1000 we get [-2.00092406  3.90940174 -0.89742379] with error 0.039798330956119635\n",
      "For Learning rate of 0.05 and iteration of 5000 we get [-2.02707516  3.93579125 -0.89918887] with error 0.039515390832877875\n",
      "For Learning rate of 0.05 and iteration of 10000 we get [-2.02957706  3.95106505 -0.90769955] with error 0.039376025006561934\n",
      "For Learning rate of 0.05 and iteration of 25000 we get [-2.00009554  3.87118059 -0.87952363] with error 0.0405256927511216\n",
      "For Learning rate of 0.05 and iteration of 50000 we get [-2.03701455  3.97419532 -0.91784214] with error 0.03918947602092298\n",
      "For Learning rate of 0.1 and iteration of 10 we get [-0.81281694  2.31406575 -0.64433846] with error 0.3505066377003793\n",
      "For Learning rate of 0.1 and iteration of 50 we get [-1.98005372  3.8340971  -0.87002456] with error 0.04132095306878311\n",
      "For Learning rate of 0.1 and iteration of 100 we get [-2.04448689  3.98854052 -0.92596953] with error 0.03861177017885073\n",
      "For Learning rate of 0.1 and iteration of 500 we get [-2.04049133  3.99995783 -0.91601818] with error 0.03873786225892492\n",
      "For Learning rate of 0.1 and iteration of 1000 we get [-2.04256372  3.99856498 -0.92178113] with error 0.03880372292780469\n",
      "For Learning rate of 0.1 and iteration of 5000 we get [-2.04535245  3.9945098  -0.9261245 ] with error 0.03901672777170865\n",
      "For Learning rate of 0.1 and iteration of 10000 we get [-2.04280535  3.99558962 -0.92074849] with error 0.03871068352158239\n",
      "For Learning rate of 0.1 and iteration of 25000 we get [-2.03737724  3.97965692 -0.90949372] with error 0.03885823175334256\n",
      "For Learning rate of 0.1 and iteration of 50000 we get [-2.04713797  3.99363253 -0.93030958] with error 0.038804388739527226\n",
      "For Learning rate of 0.3 and iteration of 10 we get [-1.81259183  3.50939809 -0.76510402] with error 0.06241817075366309\n",
      "For Learning rate of 0.3 and iteration of 50 we get [-2.03411208  3.99480968 -0.91233809] with error 0.03817198391791006\n",
      "For Learning rate of 0.3 and iteration of 100 we get [-1.98077175  3.82029127 -0.88510372] with error 0.0415123816712337\n",
      "For Learning rate of 0.3 and iteration of 500 we get [-2.0540726   3.98748607 -0.93376697] with error 0.03731664085543858\n",
      "For Learning rate of 0.3 and iteration of 1000 we get [-2.05250444  3.99076838 -0.93576411] with error 0.03735274052434343\n",
      "For Learning rate of 0.3 and iteration of 5000 we get [-2.02844045  3.96658114 -0.89826612] with error 0.037917099569370505\n",
      "For Learning rate of 0.3 and iteration of 10000 we get [-2.03460232  4.00793705 -0.90070641] with error 0.03707363422086933\n",
      "For Learning rate of 0.3 and iteration of 25000 we get [-2.03349155  4.00751795 -0.89667837] with error 0.03825572930119132\n",
      "For Learning rate of 0.3 and iteration of 50000 we get [-2.03329579  4.00045422 -0.89891263] with error 0.03674450866776204\n"
     ]
    }
   ],
   "source": [
    "for l in Learning_rates:\n",
    "    for m in MaxIter:\n",
    "        error_list, w = least_squares_grad_desc(X, y, m, l, mini_batch_update, 10)\n",
    "        print(\"For Learning rate of \"+str(l)+\" and iteration of \"+str(m)+\" we get \"+str(w)+\" with error \"+str(error_list[-1]))"
   ]
  },
  {
   "cell_type": "markdown",
   "metadata": {
    "colab_type": "text",
    "id": "mMNxMJJdVhOj"
   },
   "source": [
    "(B) What settings worked well for you:  online vs. batch vs. minibatch? What step size? How did you decide to terminate?"
   ]
  },
  {
   "cell_type": "markdown",
   "metadata": {
    "colab": {},
    "colab_type": "code",
    "id": "PyFSefo3VhOk"
   },
   "source": [
    "For this Dataset minibatch came out with the lowest error rate, going lower than 0.04 which is usually the lower bound for the other update rules. For the step size the learning rate of 0.3 seems to usualy work for all minibatch size. As for termination, if the error rate difference becomes lower than 0.0001 for a certain iteration the program terminates the learning process and returns the error rate."
   ]
  },
  {
   "cell_type": "markdown",
   "metadata": {
    "colab_type": "text",
    "id": "bXxAjKTtVhOm"
   },
   "source": [
    "(C) Make a graph of error on the entire data set as a function of epoch. An epoch is a complete sweep through all the data (which is one iteration for full-batch gradient descent)."
   ]
  },
  {
   "cell_type": "code",
   "execution_count": 8,
   "metadata": {
    "colab": {},
    "colab_type": "code",
    "id": "j3rvqIrYVhOn"
   },
   "outputs": [
    {
     "name": "stdout",
     "output_type": "stream",
     "text": [
      "maxIter = 50000, no. of epochs = 106 , error = 0.041186124400812034\n"
     ]
    },
    {
     "data": {
      "image/png": "[encoded data removed]",
      "text/plain": [
       "<Figure size 432x288 with 1 Axes>"
      ]
     },
     "metadata": {
      "needs_background": "light"
     },
     "output_type": "display_data"
    },
    {
     "name": "stdout",
     "output_type": "stream",
     "text": [
      "maxIter = 50000, no. of epochs = 626 , error = 0.039710517799143426\n"
     ]
    },
    {
     "data": {
      "image/png": "[encoded data removed]",
      "text/plain": [
       "<Figure size 432x288 with 1 Axes>"
      ]
     },
     "metadata": {
      "needs_background": "light"
     },
     "output_type": "display_data"
    },
    {
     "name": "stdout",
     "output_type": "stream",
     "text": [
      "maxIter = 50000, no. of epochs = 160 , error = 0.038927317033084614\n"
     ]
    },
    {
     "data": {
      "image/png": "[encoded data removed]",
      "text/plain": [
       "<Figure size 432x288 with 1 Axes>"
      ]
     },
     "metadata": {
      "needs_background": "light"
     },
     "output_type": "display_data"
    }
   ],
   "source": [
    "# ONLINE\n",
    "\n",
    "maxIter = 50000\n",
    "alpha = 0.05\n",
    "error_list,w=least_squares_grad_desc(X, y, maxIter, alpha, online_epoch)\n",
    "print (\"maxIter = 50000, no. of epochs =\", len(error_list), \", error =\", error_list[-1])\n",
    "\n",
    "plt.plot([i for i in range(len(error_list))], error_list, 'y')\n",
    "plt.title('Online alpha = 0.05')\n",
    "plt.xlabel('Number of epochs')\n",
    "plt.ylabel('Mean Square Error')\n",
    "plt.show()\n",
    "\n",
    "\n",
    "# BATCH\n",
    "\n",
    "maxIter = 50000\n",
    "alpha = 0.1\n",
    "error_list,w=least_squares_grad_desc(X, y, maxIter, alpha, batch_update)\n",
    "print (\"maxIter = 50000, no. of epochs =\", len(error_list), \", error =\", error_list[-1])\n",
    "\n",
    "plt.plot([i for i in range(len(error_list))], error_list, 'g')\n",
    "plt.title('Batch alpha = 0.1')\n",
    "plt.xlabel('Number of epochs')\n",
    "plt.ylabel('Mean Square Error')\n",
    "plt.show()\n",
    "\n",
    "# MINI-BATCH\n",
    "\n",
    "maxIter = 50000\n",
    "alpha = 0.1\n",
    "error_list,w=least_squares_grad_desc(X, y, maxIter, alpha, mini_batch_update, 10)\n",
    "print (\"maxIter = 50000, no. of epochs =\", len(error_list), \", error =\", error_list[-1])\n",
    "\n",
    "plt.plot([i for i in range(len(error_list))], error_list)\n",
    "plt.title('Mini-batch alpha = 0.1 batch-size = 10')\n",
    "plt.xlabel('Number of epochs')\n",
    "plt.ylabel('Mean Square Error')\n",
    "plt.show()"
   ]
  },
  {
   "cell_type": "markdown",
   "metadata": {
    "colab_type": "text",
    "id": "u2WH5OVEVhOp"
   },
   "source": [
    "## Part 3"
   ]
  },
  {
   "cell_type": "markdown",
   "metadata": {
    "colab_type": "text",
    "id": "POTbQx4cVhOp"
   },
   "source": [
    "The data set from a regression problem can be converted into a classification problem simply by using the sign of (+ or -) as representing one of two classes. In the data set used in Part 1 and 2, you'll see the variable z that represents this binary (0 or 1) class.\n",
    "\n",
    "Use the perceptron learning rule to solve for the coefficients {$w_1$, $w_2$, $b$} of this classification problem.   \n",
    "\n",
    "Two warnings: First, your solution to Part 3 should require only a few lines of code changed from the code you wrote for Part 2. Second, the Perceptron algorithm will not converge if there is no exact solution to the training data. It will jitter among coefficients that all yield roughly equally good solutions."
   ]
  },
  {
   "cell_type": "markdown",
   "metadata": {
    "colab_type": "text",
    "id": "Qs7gbsbjVhOq"
   },
   "source": [
    "Complete the following functions below and use them to answer questions (A) and (B). \n",
    "\n",
    "**Note:** Please do not change the interface of the given functions."
   ]
  },
  {
   "cell_type": "code",
   "execution_count": 9,
   "metadata": {
    "colab": {},
    "colab_type": "code",
    "id": "anej2h2pVhOr"
   },
   "outputs": [],
   "source": [
    "def change_y_values(y):\n",
    "    y_ = np.copy(y)\n",
    "    for i in range(len(y_)):\n",
    "        if y_[i] == 0:\n",
    "            y_[i] = -1\n",
    "    return y_\n",
    "\n",
    "def perceptron_update(X, y, w, alpha):\n",
    "    \"\"\"\n",
    "    One epoch of Perceptron updates (full sweep of the dataset).\n",
    "    \n",
    "    Parameters\n",
    "    ----------\n",
    "    X : NumPy array of features (size : no of examples X features)\n",
    "    y : Numpy array of class labels (size : no of examples X 1)\n",
    "    w : array of coefficients from the previous iteration\n",
    "    \n",
    "    Returns\n",
    "    -------\n",
    "    w : Coefficients of the classifier (after updating)\n",
    "    incorrect : Incorrectly classified examples\n",
    "    \"\"\"\n",
    "    y_ = change_y_values(y)\n",
    "    incorrect = 0\n",
    "    \n",
    "    for i in range(len(y)):\n",
    "        if y_[i] * np.dot(X[i],w) < 0:\n",
    "            w += alpha*y_[i]*X[i]\n",
    "            incorrect += 1\n",
    "    \n",
    "    return w,incorrect\n",
    "            \n",
    "    #pass\n",
    "\n",
    "def perceptron(X, y, maxIter, alpha):\n",
    "    \"\"\"\n",
    "    Implements the Perceptron algorithm.\n",
    "    \n",
    "    Parameters\n",
    "    ----------\n",
    "    X : NumPy array of features (size : no of examples X features)\n",
    "    y : Numpy array of class labels (size : no of examples X 1)\n",
    "    maxIter : The maximum number of iterations allowed \n",
    "    alpha : Learning Rate\n",
    "    \n",
    "    Returns\n",
    "    -------\n",
    "    w : Coefficients of the classifier\n",
    "    incorrect : Incorrectly classified examples on termination\n",
    "    \"\"\"\n",
    "    incorrect_list=[]\n",
    "    w = np.random.rand(len(X[0]))\n",
    "    for i in range(maxIter):\n",
    "        X, y = shuffle(X, y)\n",
    "        w, incorrect = perceptron_update(X, y, w, alpha)\n",
    "        if i>200 and error_difference(incorrect_list[-1],incorrect):\n",
    "            return w, incorrect_list\n",
    "        incorrect_list.append(incorrect)\n",
    "    return w,incorrect_list\n",
    "    #pass"
   ]
  },
  {
   "cell_type": "markdown",
   "metadata": {
    "colab_type": "text",
    "id": "CiM8viPnVhOt"
   },
   "source": [
    "(A) Report the values of coefficients $w_1$, $w_2$, and $b$."
   ]
  },
  {
   "cell_type": "code",
   "execution_count": 10,
   "metadata": {
    "colab": {},
    "colab_type": "code",
    "id": "Jl1YoCt-VhOt"
   },
   "outputs": [
    {
     "name": "stdout",
     "output_type": "stream",
     "text": [
      "w1 = -0.17593827482606242\n",
      "w2 = 0.25476933865677814\n",
      "b = -0.03626547520388839\n",
      "Incorrect examples: 5\n"
     ]
    }
   ],
   "source": [
    "w, incorrect_list = perceptron(X, z, 1000, 0.01)\n",
    "print (\"w1 =\", w[0])\n",
    "print (\"w2 =\", w[1])\n",
    "print (\"b =\", w[2])\n",
    "print (\"Incorrect examples:\", incorrect_list[-1])"
   ]
  },
  {
   "cell_type": "markdown",
   "metadata": {
    "colab_type": "text",
    "id": "v9MObKUYVhOv"
   },
   "source": [
    "(B) Make a graph of the accuracy (% correct classification) on the training set as a function of epoch."
   ]
  },
  {
   "cell_type": "code",
   "execution_count": 11,
   "metadata": {
    "colab": {},
    "colab_type": "code",
    "id": "x8yAplB5VhOw"
   },
   "outputs": [
    {
     "data": {
      "image/png": "[encoded data removed]",
      "text/plain": [
       "<Figure size 432x288 with 1 Axes>"
      ]
     },
     "metadata": {
      "needs_background": "light"
     },
     "output_type": "display_data"
    }
   ],
   "source": [
    "accuracy = 1.0 - (np.array(incorrect_list) / len(z))\n",
    "\n",
    "plt.title(\"Perceptron alpha = 0.01\")\n",
    "plt.xlabel(\"Number of Epochs\")\n",
    "plt.ylabel(\"Accuracy\")\n",
    "plt.plot([i for i in range(len(incorrect_list))], accuracy)\n",
    "plt.show()"
   ]
  },
  {
   "cell_type": "markdown",
   "metadata": {
    "colab_type": "text",
    "id": "AfXBONZZVhOy"
   },
   "source": [
    "## Part 4"
   ]
  },
  {
   "cell_type": "markdown",
   "metadata": {
    "colab_type": "text",
    "id": "zO2ij9gIVhOy"
   },
   "source": [
    "In machine learning, we really want to train a model based on some data and then expect the model to do well on \"out of sample\" data. Try this with the code you wrote for Part 3:  Train the model on the first {5, 10, 25, 50, 75} examples in the data set and test the model on the final 25 examples."
   ]
  },
  {
   "cell_type": "markdown",
   "metadata": {
    "colab_type": "text",
    "id": "F66-PYWKVhOz"
   },
   "source": [
    "Complete the following function below and use it to answer (A). \n",
    "\n",
    "**Note:** Please do not change the interface of the given function."
   ]
  },
  {
   "cell_type": "code",
   "execution_count": 12,
   "metadata": {
    "colab": {},
    "colab_type": "code",
    "id": "3wseIfmUVhOz"
   },
   "outputs": [],
   "source": [
    "def classify(X, y, w):\n",
    "    \"\"\"\n",
    "    Use this function to classify examples in the test set\n",
    "    \n",
    "    Parameters\n",
    "    ----------\n",
    "    X : Test set features\n",
    "    y : Test set labels\n",
    "    w : Perceptron coefficients\n",
    "    \n",
    "    Returns\n",
    "    -------\n",
    "    correct : number of correctly classified examples\n",
    "    \"\"\"\n",
    "    correct = 0\n",
    "    \n",
    "    y_ = change_y_values(y)\n",
    "    \n",
    "    for i in range(len(y)):\n",
    "        if y_[i] * np.dot(X[i],w) > 0:\n",
    "            correct += 1\n",
    "    \n",
    "    return correct\n",
    "    #pass"
   ]
  },
  {
   "cell_type": "markdown",
   "metadata": {
    "colab_type": "text",
    "id": "I3D_lEO8VhO3"
   },
   "source": [
    "How does performance on the test set vary with the amount of training data? Make a bar graph showing performance for each of the different training set sizes."
   ]
  },
  {
   "cell_type": "code",
   "execution_count": 13,
   "metadata": {
    "colab": {},
    "colab_type": "code",
    "id": "0GrkjpYDVhO4"
   },
   "outputs": [
    {
     "name": "stdout",
     "output_type": "stream",
     "text": [
      "[0.52, 0.72, 0.96, 0.92, 0.92]\n"
     ]
    },
    {
     "data": {
      "image/png": "[encoded data removed]",
      "text/plain": [
       "<Figure size 432x288 with 1 Axes>"
      ]
     },
     "metadata": {
      "needs_background": "light"
     },
     "output_type": "display_data"
    }
   ],
   "source": [
    "train_sets = [5, 10, 25, 50, 75]\n",
    "correct_list = []\n",
    "X_test = X[-25:]\n",
    "z_test = z[-25:]\n",
    "for train_set in train_sets:\n",
    "    X_train = X[:train_set]\n",
    "    z_train = z[:train_set]\n",
    "    w, incorrect = perceptron(X_train, z_train, 1000, 0.001)\n",
    "    correct = classify(X_test, z_test, w)\n",
    "    correct_list.append(correct / len(z_test))\n",
    "print (correct_list)\n",
    "plt.bar(train_sets, correct_list, width=2.5)\n",
    "plt.xlabel(\"Training Set Size\")\n",
    "plt.ylabel(\"Correct Examples\")\n",
    "plt.title(\"Performance on Test Set\")\n",
    "\n",
    "plt.show()"
   ]
  },
  {
   "cell_type": "code",
   "execution_count": null,
   "metadata": {},
   "outputs": [],
   "source": []
  }
 ],
 "metadata": {
  "colab": {
   "collapsed_sections": [],
   "name": "2020 assignment_1.ipynb",
   "provenance": []
  },
  "kernelspec": {
   "display_name": "Python 3",
   "language": "python",
   "name": "python3"
  },
  "language_info": {
   "codemirror_mode": {
    "name": "ipython",
    "version": 3
   },
   "file_extension": ".py",
   "mimetype": "text/x-python",
   "name": "python",
   "nbconvert_exporter": "python",
   "pygments_lexer": "ipython3",
   "version": "3.7.3"
  }
 },
 "nbformat": 4,
 "nbformat_minor": 1
}

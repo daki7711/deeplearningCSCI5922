{
 "cells": [
  {
   "cell_type": "markdown",
   "metadata": {
    "colab_type": "text",
    "id": "yI6QRw_VVhOI"
   },
   "source": [
    "# <center> Neural Networks and Deep Learning (CSCI 5922)</center>\n",
    "# <center> Spring 2020 </center>"
   ]
  },
  {
   "cell_type": "markdown",
   "metadata": {
    "colab_type": "text",
    "id": "oyyZSLCIVhOK"
   },
   "source": [
    "**Name:** David Young-Jae Kim"
   ]
  },
  {
   "cell_type": "markdown",
   "metadata": {
    "colab_type": "text",
    "id": "B7u4l5SIVhOL"
   },
   "source": [
    "## Goal"
   ]
  },
  {
   "cell_type": "markdown",
   "metadata": {
    "colab_type": "text",
    "id": "O7mbNY0lVhOL"
   },
   "source": [
    "The goal of this assignment is to introduce neural networks in terms of ideas you are already familiar with:  linear regression and classification"
   ]
  },
  {
   "cell_type": "markdown",
   "metadata": {
    "colab_type": "text",
    "id": "i5ZAXp1mVhOM"
   },
   "source": [
    "## Dataset"
   ]
  },
  {
   "cell_type": "markdown",
   "metadata": {
    "colab_type": "text",
    "id": "w-ZVWvA4VhON"
   },
   "source": [
    "You are given a dataset with 2 input variables ($x_1$, $x_2$) and an output variable ($y$)."
   ]
  },
  {
   "cell_type": "code",
   "execution_count": 1,
   "metadata": {
    "colab": {},
    "colab_type": "code",
    "id": "qluUEgHYVhOO"
   },
   "outputs": [],
   "source": [
    "from sklearn.datasets import make_regression\n",
    "from matplotlib import pyplot as plt\n",
    "import numpy as np\n",
    "import os\n",
    "from numpy.linalg import inv\n",
    "\n",
    "# Load data\n",
    "data = np.loadtxt(os.path.join('data', 'assign1_data.txt'),  delimiter=',')\n",
    "X = data[:,:2]\n",
    "X=np.append(X, np.resize(np.ones(len(X)+1),(-1,1)), axis=1)\n",
    "y = data[:, 2]\n",
    "z = data[:, 3]"
   ]
  },
  {
   "cell_type": "markdown",
   "metadata": {
    "colab_type": "text",
    "id": "ZiLhj-CvVhOQ"
   },
   "source": [
    "## Part 1"
   ]
  },
  {
   "cell_type": "markdown",
   "metadata": {
    "colab_type": "text",
    "id": "1zNUNcC0VhOR"
   },
   "source": [
    "Write a program to find the exact least squares solution to $y = w_1 x_1 + w_2 x_2 + b$ for the above dataset, using the normal equation."
   ]
  },
  {
   "cell_type": "markdown",
   "metadata": {
    "colab_type": "text",
    "id": "txzccR6-VhOS"
   },
   "source": [
    "Complete the following function below and use it to answer questions (A) and (B). \n",
    "\n",
    "**Note:** Please do not change the interface of the given function."
   ]
  },
  {
   "cell_type": "code",
   "execution_count": 2,
   "metadata": {
    "colab": {},
    "colab_type": "code",
    "id": "gFAcJL6VVhOS"
   },
   "outputs": [],
   "source": [
    "def least_squares(X, y):\n",
    "    \"\"\"\n",
    "    Finds the Least Squares solution\n",
    "    \n",
    "    Parameters\n",
    "    ----------\n",
    "    X : NumPy array of features (size : no of examples X features)\n",
    "    y : Numpy array of output value 'y' (size : no of examples X 1)\n",
    "    \n",
    "    Returns\n",
    "    -------\n",
    "    w : solution array\n",
    "    \"\"\"\n",
    "    return np.matmul(np.matmul(inv(np.matmul(X.T,X)),X.T),y)\n",
    "    #pass"
   ]
  },
  {
   "cell_type": "markdown",
   "metadata": {
    "colab_type": "text",
    "id": "ZcO-nAfxVhOV"
   },
   "source": [
    "(A) Report the values of $w_1$, $w_2$, and $b$."
   ]
  },
  {
   "cell_type": "code",
   "execution_count": 3,
   "metadata": {
    "colab": {},
    "colab_type": "code",
    "id": "5sXuI05yVhOV"
   },
   "outputs": [
    {
     "name": "stdout",
     "output_type": "stream",
     "text": [
      "The values of w1 is -2.044242595137635 w2 is 3.996860168659326 and the bias is -0.9242908118675917\n"
     ]
    }
   ],
   "source": [
    "w=least_squares(X,y)\n",
    "\n",
    "print(\"The values of w1 is\",w[0],\"w2 is\",w[1],\"and the bias is\",w[2])"
   ]
  },
  {
   "cell_type": "markdown",
   "metadata": {
    "colab_type": "text",
    "id": "S-jYwaEbVhOY"
   },
   "source": [
    "(B) What function or method did you use to find the least-squares solution?"
   ]
  },
  {
   "cell_type": "markdown",
   "metadata": {
    "colab_type": "text",
    "id": "OF8A7mYEVhOY"
   },
   "source": [
    "In this problem we approched it using the general linear regression, we used the equation\n",
    "$$\\beta = (X^TX)^{-1}X^Ty$$"
   ]
  },
  {
   "cell_type": "markdown",
   "metadata": {
    "colab_type": "text",
    "id": "_qNGRMnLVhOZ"
   },
   "source": [
    "## Part 2"
   ]
  },
  {
   "cell_type": "markdown",
   "metadata": {
    "colab_type": "text",
    "id": "K2C1Pj1xVhOZ"
   },
   "source": [
    "Implement linear regression of y on X via first-order optimization of the least-squares objective. Write a program that determines the coefficients {w1,w2,b}. Implement stochastic gradient descent, batch gradient descent, and mini-batch gradient descent. You will need to experiment with updating rules, step sizes (i.e. learning rates), stopping criteria, etc. Experiment to find settings that lead to solutions with the fewest number of sweeps through the data."
   ]
  },
  {
   "cell_type": "markdown",
   "metadata": {
    "colab_type": "text",
    "id": "Dz9LPxNsVhOa"
   },
   "source": [
    "Complete the following functions below and use them to answer questions (A), (B) and (C). You may find the shuffle function from scikit-learn useful. \n",
    "\n",
    "Use the following hyperparameters:\n",
    "\n",
    "Learning rates = [0.001, 0.05, 0.01, 0.05, 0.1, 0.3]\n",
    "\n",
    "MaxIter = [10, 50, 100, 500, 1000, 5000, 10000, 25000, 50000]\n",
    "\n",
    "**Note:** Please do not change the interface of the given functions."
   ]
  },
  {
   "cell_type": "code",
   "execution_count": 4,
   "metadata": {
    "colab": {},
    "colab_type": "code",
    "id": "9rCKocs6VhOb"
   },
   "outputs": [],
   "source": [
    "from sklearn.utils import shuffle\n",
    "\n",
    "# function that returns a TRUE value if the error difference is smaller than a certain error rate\n",
    "def error_difference(before_error,current_error):\n",
    "    if before_error == 0:\n",
    "        return False\n",
    "    error_rate = 0.0001\n",
    "    return abs(current_error - before_error) / before_error <= error_rate\n",
    "\n",
    "# function to compute hypothesis / predictions \n",
    "def predictions(X, w): \n",
    "    return np.dot(X, w) \n",
    "  \n",
    "# function to compute gradient of error function w.r.t. weight w \n",
    "def gradient(X, y, w): \n",
    "    grad = np.dot(X.T, (predictions(X, w) - y)) \n",
    "    return grad \n",
    "  \n",
    "# function to compute the error for current values of weight w\n",
    "def R(X, y, w):\n",
    "    return (1/len(y))*((predictions(X,w) - y)**2).sum()\n",
    "\n",
    "def online_epoch(X, y, w, alpha):\n",
    "    \"\"\"\n",
    "    One epoch of stochastic gradient descent (i.e. one sweep of the dataset).\n",
    "    \n",
    "    Parameters\n",
    "    ----------\n",
    "    X : NumPy array of features (size : no of examples X features)\n",
    "    y : Numpy array of class labels (size : no of examples X 1)\n",
    "    w : array of coefficients from the previous iteration\n",
    "    \n",
    "    Returns\n",
    "    -------\n",
    "    Coefficients of the model (after updating)\n",
    "    \"\"\"\n",
    "    error = 0\n",
    "    \n",
    "    for i in range(len(y)):\n",
    "        w = w - alpha * (np.dot(w,X[i]) - y[i]) * X[i]\n",
    "        error += R(X, y, w)\n",
    "    \n",
    "    error /= len(y)\n",
    "    \n",
    "    return error, w\n",
    "    #pass\n",
    "\n",
    "def batch_update(X, y, w, alpha):\n",
    "    \"\"\"\n",
    "    One iteration of full-batch gradient descent.\n",
    "    \n",
    "    Parameters\n",
    "    ----------\n",
    "    X : NumPy array of features (size : no of examples X features)\n",
    "    y : Numpy array of class labels (size : no of examples X 1)\n",
    "    w : array of coefficients from the previous iteration\n",
    "    \n",
    "    Returns\n",
    "    -------\n",
    "    Coefficients of the model (after updating)\n",
    "    \"\"\"\n",
    "    w = w - alpha * (1/len(y)) * gradient(X, y, w)\n",
    "    \n",
    "    return R(X, y, w), w \n",
    "    #pass\n",
    "\n",
    "def mini_batch_update(X, y, w, alpha, batch_size):\n",
    "    \"\"\"\n",
    "    One epoch of mini-batch SGD over the entire dataset (i.e. one sweep of the dataset).\n",
    "    \n",
    "    Parameters\n",
    "    ----------\n",
    "    X : NumPy array of features (size : no of examples X features)\n",
    "    y : Numpy array of class labels (size : no of examples X 1)\n",
    "    w : array of coefficients from the previous iteration\n",
    "    batch_size : size of the batch for gradient update\n",
    "    \n",
    "    Returns\n",
    "    -------\n",
    "    Coefficients of the model (after updating)\n",
    "    \"\"\"\n",
    "    mini_batch_error = 0\n",
    "    for i in range(0, len(y), batch_size):\n",
    "        if i+batch_size < len(y):\n",
    "            w = w - alpha * (1/batch_size) * gradient(X[i:i+batch_size], y[i:i+batch_size], w)\n",
    "            error = R(X[i:i+batch_size], y[i:i+batch_size], w)\n",
    "        else:\n",
    "            w = w - alpha * (1/batch_size) * gradient(X[i:], y[i:], w)\n",
    "            error = R(X[i:], y[i:], w)\n",
    "        mini_batch_error += error\n",
    "    return mini_batch_error / (len(y) / batch_size), w\n",
    "    #pass\n",
    "\n",
    "def least_squares_grad_desc(X, y, maxIter, alpha, update, *batch_size):\n",
    "    \"\"\"\n",
    "    Implements least squares with gradient descent.\n",
    "    \n",
    "    Parameters\n",
    "    ----------\n",
    "    X : NumPy array of features (size : no of examples X features)\n",
    "    y : Numpy array of class labels (size : no of examples X 1)\n",
    "    maxIter : Maximum number of iterations allowed\n",
    "    alpha : Learning rate\n",
    "    update : update function to utilize (one of online, batch, mini-batch)\n",
    "    batch_size : number of examples in a batch (only useful when update = mini_batch_update)\n",
    "    \n",
    "    Returns\n",
    "    -------\n",
    "    Coefficients of the model (after updating)\n",
    "    \n",
    "    Note : *batch_size is an optional argument and only to be used when doing mini-batch Gradient Descent \n",
    "    \"\"\"\n",
    "    error_list=[float('inf')]\n",
    "    w = np.random.rand(len(X[0]))\n",
    "    for i in range(maxIter):\n",
    "        X, y = shuffle(X, y)\n",
    "        if update == mini_batch_update:\n",
    "            error,w = update(X, y, w, alpha, batch_size[0])\n",
    "        else:\n",
    "            error,w = update(X, y, w, alpha)\n",
    "        \n",
    "        error_list.append(error)\n",
    "        if i>2 and error_difference(error_list[-2],error_list[-1]):\n",
    "            return error_list,w\n",
    "    return error_list , w\n",
    "    #pass"
   ]
  },
  {
   "cell_type": "markdown",
   "metadata": {
    "colab_type": "text",
    "id": "zYMi7e8ZVhOd"
   },
   "source": [
    "(A) Report the values of $w_1$, $w_2$, and $b$. "
   ]
  },
  {
   "cell_type": "code",
   "execution_count": 5,
   "metadata": {
    "colab": {},
    "colab_type": "code",
    "id": "uJ2UpCAbVhOd"
   },
   "outputs": [
    {
     "name": "stdout",
     "output_type": "stream",
     "text": [
      "For Learning rate of 0.001 and iteration of 10 we get [-0.27386466  0.78169255  0.14156595] with error 1.0949981166958032\n",
      "For Learning rate of 0.001 and iteration of 50 we get [-0.31921414  1.34634569 -0.39460331] with error 0.7344918111968546\n",
      "For Learning rate of 0.001 and iteration of 100 we get [-0.79041832  1.86198411 -0.43458447] with error 0.4675913095284818\n",
      "For Learning rate of 0.001 and iteration of 500 we get [-1.98631233  3.83833025 -0.87105665] with error 0.04146307517803449\n",
      "For Learning rate of 0.001 and iteration of 1000 we get [-2.00873819  3.89256611 -0.88806147] with error 0.040294781282665504\n",
      "For Learning rate of 0.001 and iteration of 5000 we get [-2.00169706  3.91178986 -0.90120036] with error 0.04005542353688792\n",
      "For Learning rate of 0.001 and iteration of 10000 we get [-2.00291868  3.90874726 -0.89929836] with error 0.04008893858172526\n",
      "For Learning rate of 0.001 and iteration of 25000 we get [-1.995682    3.89812963 -0.89722796] with error 0.04027148164581254\n",
      "For Learning rate of 0.001 and iteration of 50000 we get [-2.00027496  3.88551674 -0.88872697] with error 0.04044391613311989\n",
      "For Learning rate of 0.05 and iteration of 10 we get [-1.97533179  3.87327997 -0.85916896] with error 0.04227858736449136\n",
      "For Learning rate of 0.05 and iteration of 50 we get [-2.04743378  3.99709241 -0.93221523] with error 0.040180569008270196\n",
      "For Learning rate of 0.05 and iteration of 100 we get [-2.05614588  3.98234994 -0.95157001] with error 0.04123689756686777\n",
      "For Learning rate of 0.05 and iteration of 500 we get [-2.05347049  3.98820936 -0.92504215] with error 0.040758905213436274\n",
      "For Learning rate of 0.05 and iteration of 1000 we get [-2.04721579  3.98507234 -0.94461877] with error 0.04063856544334387\n",
      "For Learning rate of 0.05 and iteration of 5000 we get [-2.04654552  3.99966469 -0.91376608] with error 0.0399963514867397\n",
      "For Learning rate of 0.05 and iteration of 10000 we get [-2.03966764  4.00083053 -0.91693971] with error 0.040118665496702795\n",
      "For Learning rate of 0.05 and iteration of 25000 we get [-2.02419874  4.0256023  -0.86727785] with error 0.040624973093358045\n",
      "For Learning rate of 0.05 and iteration of 50000 we get [-2.02594135  3.99702324 -0.89944496] with error 0.04075959791756137\n",
      "For Learning rate of 0.01 and iteration of 10 we get [-1.10500182  2.12633664 -0.3875743 ] with error 0.3704846158206052\n",
      "For Learning rate of 0.01 and iteration of 50 we get [-1.9804118   3.83631152 -0.87260476] with error 0.041863883868225864\n",
      "For Learning rate of 0.01 and iteration of 100 we get [-2.032547    3.96585132 -0.91189226] with error 0.03954992148966608\n",
      "For Learning rate of 0.01 and iteration of 500 we get [-2.04103121  3.97674965 -0.92430396] with error 0.03955787542556814\n",
      "For Learning rate of 0.01 and iteration of 1000 we get [-1.99890424  3.90130155 -0.90053101] with error 0.04035416193202666\n",
      "For Learning rate of 0.01 and iteration of 5000 we get [-2.03904422  3.98481227 -0.91989682] with error 0.0394868579825068\n",
      "For Learning rate of 0.01 and iteration of 10000 we get [-2.0208925   3.92284836 -0.89857632] with error 0.039949733406314934\n",
      "For Learning rate of 0.01 and iteration of 25000 we get [-2.0426169   3.99825098 -0.91912619] with error 0.039468075807320396\n",
      "For Learning rate of 0.01 and iteration of 50000 we get [-2.04224788  3.99252634 -0.92068904] with error 0.03950451546007342\n",
      "For Learning rate of 0.05 and iteration of 10 we get [-2.01006888  3.82573222 -0.9209698 ] with error 0.0424445254071656\n",
      "For Learning rate of 0.05 and iteration of 50 we get [-2.01681605  4.01386559 -0.90133965] with error 0.04120046111525876\n",
      "For Learning rate of 0.05 and iteration of 100 we get [-2.05914236  3.98258072 -0.9583591 ] with error 0.04053183282355564\n",
      "For Learning rate of 0.05 and iteration of 500 we get [-2.04412993  4.00049519 -0.92690063] with error 0.03998409146224452\n",
      "For Learning rate of 0.05 and iteration of 1000 we get [-2.04506279  4.01052177 -0.90712091] with error 0.040288094341305765\n",
      "For Learning rate of 0.05 and iteration of 5000 we get [-2.03997504  4.00074347 -0.92181163] with error 0.04047746490065892\n",
      "For Learning rate of 0.05 and iteration of 10000 we get [-2.043391    3.99361339 -0.93289203] with error 0.040843651163738795\n",
      "For Learning rate of 0.05 and iteration of 25000 we get [-2.05871067  3.99052365 -0.9460209 ] with error 0.04063138483014134\n",
      "For Learning rate of 0.05 and iteration of 50000 we get [-2.06390078  3.98036923 -0.94871218] with error 0.0412850498621368\n",
      "For Learning rate of 0.1 and iteration of 10 we get [-2.0658116   3.97159676 -0.93701176] with error 0.04132811021399254\n",
      "For Learning rate of 0.1 and iteration of 50 we get [-2.02204488  4.0018045  -0.92368761] with error 0.04144144287643299\n",
      "For Learning rate of 0.1 and iteration of 100 we get [-2.03575937  4.0340103  -0.92425394] with error 0.04193353551457589\n",
      "For Learning rate of 0.1 and iteration of 500 we get [-2.02820391  4.00638107 -0.91136967] with error 0.04186333736741582\n",
      "For Learning rate of 0.1 and iteration of 1000 we get [-2.05015093  4.0013158  -0.93709052] with error 0.04240947479415592\n",
      "For Learning rate of 0.1 and iteration of 5000 we get [-2.03963879  4.05324143 -0.88121799] with error 0.042198213971999445\n",
      "For Learning rate of 0.1 and iteration of 10000 we get [-2.05712973  3.99062174 -0.95126527] with error 0.041871747504749986\n",
      "For Learning rate of 0.1 and iteration of 25000 we get [-2.03898756  4.01082818 -0.90870535] with error 0.041969306406219306\n",
      "For Learning rate of 0.1 and iteration of 50000 we get [-2.0291839   4.01063061 -0.92450614] with error 0.041033565179850996\n",
      "For Learning rate of 0.3 and iteration of 10 we get [-2.11661002  3.91607944 -1.00700212] with error 0.05152144453706212\n",
      "For Learning rate of 0.3 and iteration of 50 we get [-2.00766579  4.01783133 -0.90315902] with error 0.052803071564985454\n",
      "For Learning rate of 0.3 and iteration of 100 we get [-2.03573059  3.90959137 -0.93247138] with error 0.050487354815817634\n",
      "For Learning rate of 0.3 and iteration of 500 we get [-2.19793696  3.91642394 -0.98091565] with error 0.052537163790524935\n",
      "For Learning rate of 0.3 and iteration of 1000 we get [-2.01112601  4.00221434 -0.93203685] with error 0.05012015068428496\n",
      "For Learning rate of 0.3 and iteration of 5000 we get [-2.08316104  4.10479926 -0.86716761] with error 0.05039585297701676\n",
      "For Learning rate of 0.3 and iteration of 10000 we get [-1.96320425  4.08951212 -0.8328638 ] with error 0.05254738534542595\n",
      "For Learning rate of 0.3 and iteration of 25000 we get [-1.89198697  4.05523834 -0.94200703] with error 0.0530253551190821\n",
      "For Learning rate of 0.3 and iteration of 50000 we get [-2.01832725  4.0602353  -0.91508587] with error 0.05116012729234605\n"
     ]
    }
   ],
   "source": [
    "Learning_rates = [0.001, 0.05, 0.01, 0.05, 0.1, 0.3]\n",
    "MaxIter = [10, 50, 100, 500, 1000, 5000, 10000, 25000, 50000]\n",
    "\n",
    "for l in Learning_rates:\n",
    "    for m in MaxIter:\n",
    "        error_list, w = least_squares_grad_desc(X, y, m, l, online_epoch)\n",
    "        print(\"For Learning rate of \"+str(l)+\" and iteration of \"+str(m)+\" we get \"+str(w)+\" with error \"+str(error_list[-1]))"
   ]
  },
  {
   "cell_type": "code",
   "execution_count": 6,
   "metadata": {
    "colab": {},
    "colab_type": "code",
    "id": "WWht3FM2VhOf"
   },
   "outputs": [
    {
     "name": "stdout",
     "output_type": "stream",
     "text": [
      "For Learning rate of 0.001 and iteration of 10 we get [0.11740323 0.29102687 0.17774428] with error 1.400596999640624\n",
      "For Learning rate of 0.001 and iteration of 50 we get [0.22201611 0.35807416 0.54183995] with error 1.8495072461146587\n",
      "For Learning rate of 0.001 and iteration of 100 we get [ 0.93476486  0.92176334 -0.01806119] with error 1.8738430883229549\n",
      "For Learning rate of 0.001 and iteration of 500 we get [-0.06040703  0.76675195  0.01250341] with error 1.108484619032766\n",
      "For Learning rate of 0.001 and iteration of 1000 we get [0.16547169 0.35356903 0.04318701] with error 1.3388227739071186\n",
      "For Learning rate of 0.001 and iteration of 5000 we get [-0.55143351  0.93500098 -0.07526389] with error 0.8547356598641989\n",
      "For Learning rate of 0.001 and iteration of 10000 we get [-0.94315894  1.81241739 -0.33605719] with error 0.45887007205889746\n",
      "For Learning rate of 0.001 and iteration of 25000 we get [-1.39662465  2.87404784 -0.66069008] with error 0.15612806343301067\n",
      "For Learning rate of 0.001 and iteration of 50000 we get [-1.40713022  2.86573748 -0.65147839] with error 0.1566655748416703\n",
      "For Learning rate of 0.05 and iteration of 10 we get [0.1111981  0.87015684 0.23761691] with error 1.4236525164662248\n",
      "For Learning rate of 0.05 and iteration of 50 we get [-0.57270315  0.82496745  0.01822659] with error 0.9053449280581627\n",
      "For Learning rate of 0.05 and iteration of 100 we get [-0.78027686  1.45230881 -0.22947839] with error 0.6058893234295658\n",
      "For Learning rate of 0.05 and iteration of 500 we get [-1.59523944  3.30824603 -0.78722071] with error 0.08603646834300749\n",
      "For Learning rate of 0.05 and iteration of 1000 we get [-1.97948797  3.84113354 -0.8758352 ] with error 0.041431039830374015\n",
      "For Learning rate of 0.05 and iteration of 5000 we get [-2.01288285  3.91063676 -0.89532894] with error 0.040013376991432696\n",
      "For Learning rate of 0.05 and iteration of 10000 we get [-2.01427732  3.91003395 -0.89436061] with error 0.040017097260790065\n",
      "For Learning rate of 0.05 and iteration of 25000 we get [-2.00567859  3.91311417 -0.90000779] with error 0.04000859358797087\n",
      "For Learning rate of 0.05 and iteration of 50000 we get [-2.01305642  3.91046093 -0.89515716] with error 0.04001512112202322\n",
      "For Learning rate of 0.01 and iteration of 10 we get [-0.01016327  0.7923654   0.09694253] with error 1.1892782594594118\n",
      "For Learning rate of 0.01 and iteration of 50 we get [0.40849646 0.35376701 0.1664586 ] with error 1.5612080736672795\n",
      "For Learning rate of 0.01 and iteration of 100 we get [ 0.3138824   0.62564701 -0.13160312] with error 1.2556891763423665\n",
      "For Learning rate of 0.01 and iteration of 500 we get [-0.45556599  1.07756554 -0.19363103] with error 0.8096642948788936\n",
      "For Learning rate of 0.01 and iteration of 1000 we get [-0.77509137  2.05009284 -0.53667948] with error 0.41203983476784317\n",
      "For Learning rate of 0.01 and iteration of 5000 we get [-1.94936719  3.80534075 -0.87192948] with error 0.04261479402889126\n",
      "For Learning rate of 0.01 and iteration of 10000 we get [-1.94865535  3.80568141 -0.87244054] with error 0.04261305469453698\n",
      "For Learning rate of 0.01 and iteration of 25000 we get [-1.95965563  3.80109083 -0.86488558] with error 0.04263293180355553\n",
      "For Learning rate of 0.01 and iteration of 50000 we get [-1.96071266  3.80058247 -0.86412542] with error 0.042638139849106034\n",
      "For Learning rate of 0.05 and iteration of 10 we get [0.20126058 0.19355482 0.00087232] with error 1.4016070704741606\n",
      "For Learning rate of 0.05 and iteration of 50 we get [ 0.09379076  0.58274816 -0.19491106] with error 1.1621043284146793\n",
      "For Learning rate of 0.05 and iteration of 100 we get [-0.68962696  1.39340862 -0.24309783] with error 0.6418193003880969\n",
      "For Learning rate of 0.05 and iteration of 500 we get [-1.67278825  3.28754203 -0.73988873] with error 0.0842286184573895\n",
      "For Learning rate of 0.05 and iteration of 1000 we get [-1.99941846  3.8469203  -0.86931897] with error 0.041192960355194944\n",
      "For Learning rate of 0.05 and iteration of 5000 we get [-2.01365396  3.91017135 -0.89472632] with error 0.04001709855890461\n",
      "For Learning rate of 0.05 and iteration of 10000 we get [-2.01443217  3.91013799 -0.89434002] with error 0.04001530660436331\n",
      "For Learning rate of 0.05 and iteration of 25000 we get [-2.01092565  3.91130458 -0.8965974 ] with error 0.04001112641718156\n",
      "For Learning rate of 0.05 and iteration of 50000 we get [-2.0136404   3.91035098 -0.8948241 ] with error 0.04001480558103441\n",
      "For Learning rate of 0.1 and iteration of 10 we get [0.53135253 0.06677063 0.07358363] with error 1.6310981812537069\n",
      "For Learning rate of 0.1 and iteration of 50 we get [-0.59150483  1.14595296 -0.16367028] with error 0.7565373475645223\n",
      "For Learning rate of 0.1 and iteration of 100 we get [-0.92102094  2.07737508 -0.48129591] with error 0.3827131214266066\n",
      "For Learning rate of 0.1 and iteration of 500 we get [-1.9707533   3.85712504 -0.88811232] with error 0.041150943126517195\n",
      "For Learning rate of 0.1 and iteration of 1000 we get [-2.023391    3.93589491 -0.90318573] with error 0.039708353225207514\n",
      "For Learning rate of 0.1 and iteration of 5000 we get [-2.02483826  3.93559319 -0.90234545] with error 0.039708484346864116\n",
      "For Learning rate of 0.1 and iteration of 10000 we get [-2.02714343  3.93489252 -0.90089515] with error 0.039711537855729916\n",
      "For Learning rate of 0.1 and iteration of 25000 we get [-2.02705505  3.93492378 -0.90095299] with error 0.0397113607067303\n",
      "For Learning rate of 0.1 and iteration of 50000 we get [-2.02252524  3.93624103 -0.90377261] with error 0.039706948215254265\n",
      "For Learning rate of 0.3 and iteration of 10 we get [-0.56355559  0.68792547  0.05761835] with error 0.9688016616516504\n",
      "For Learning rate of 0.3 and iteration of 50 we get [-1.18667794  2.40362528 -0.52111726] with error 0.26785596829942526\n",
      "For Learning rate of 0.3 and iteration of 100 we get [-1.84320956  3.4828708  -0.75833377] with error 0.06116440805916335\n",
      "For Learning rate of 0.3 and iteration of 500 we get [-2.03339716  3.96207482 -0.91174948] with error 0.039505271484217404\n",
      "For Learning rate of 0.3 and iteration of 1000 we get [-2.03469493  3.96203537 -0.91111351] with error 0.03950439674849797\n",
      "For Learning rate of 0.3 and iteration of 5000 we get [-2.03255228  3.96224909 -0.91223907] with error 0.03950521513401684\n",
      "For Learning rate of 0.3 and iteration of 10000 we get [-2.03094424  3.96285745 -0.91331158] with error 0.0395040536982218\n",
      "For Learning rate of 0.3 and iteration of 25000 we get [-2.03470035  3.96152311 -0.91085045] with error 0.0395071225334963\n",
      "For Learning rate of 0.3 and iteration of 50000 we get [-2.03594757  3.96149684 -0.91024518] with error 0.03950649972020447\n"
     ]
    }
   ],
   "source": [
    "for l in Learning_rates:\n",
    "    for m in MaxIter:\n",
    "        error_list, w = least_squares_grad_desc(X, y, m, l, batch_update)\n",
    "        print(\"For Learning rate of \"+str(l)+\" and iteration of \"+str(m)+\" we get \"+str(w)+\" with error \"+str(error_list[-1]))"
   ]
  },
  {
   "cell_type": "code",
   "execution_count": 7,
   "metadata": {
    "colab": {},
    "colab_type": "code",
    "id": "Vf1YmHkPVhOh"
   },
   "outputs": [
    {
     "name": "stdout",
     "output_type": "stream",
     "text": [
      "For Learning rate of 0.001 and iteration of 10 we get [0.70210534 0.12186812 0.25467481] with error 1.894346121704023\n",
      "For Learning rate of 0.001 and iteration of 50 we get [0.0798167  0.59994087 0.33211076] with error 1.4861708362690507\n",
      "For Learning rate of 0.001 and iteration of 100 we get [-0.21167035  0.91083088 -0.03224149] with error 0.9863003236190415\n",
      "For Learning rate of 0.001 and iteration of 500 we get [-0.77239635  1.64143953 -0.3296241 ] with error 0.5396065687334973\n",
      "For Learning rate of 0.001 and iteration of 1000 we get [-1.06157213  1.97193694 -0.36097229] with error 0.39564213816413246\n",
      "For Learning rate of 0.001 and iteration of 5000 we get [-1.91417967  3.6479119  -0.8085638 ] with error 0.04935192978759131\n",
      "For Learning rate of 0.001 and iteration of 10000 we get [-1.85787396  3.63176853 -0.82709223] with error 0.051178808789552666\n",
      "For Learning rate of 0.001 and iteration of 25000 we get [-1.83389206  3.66446347 -0.85509251] with error 0.050102952662488265\n",
      "For Learning rate of 0.001 and iteration of 50000 we get [-1.87046825  3.61590761 -0.81304986] with error 0.05178859838951797\n",
      "For Learning rate of 0.05 and iteration of 10 we get [-0.84715455  1.48406696 -0.21750005] with error 0.5972159092725462\n",
      "For Learning rate of 0.05 and iteration of 50 we get [-1.67925008  3.23892764 -0.70943885] with error 0.09038086327939952\n",
      "For Learning rate of 0.05 and iteration of 100 we get [-1.98925818  3.86791138 -0.88438977] with error 0.040572833248460644\n",
      "For Learning rate of 0.05 and iteration of 500 we get [-1.97696077  3.85901692 -0.887384  ] with error 0.04087045284869291\n",
      "For Learning rate of 0.05 and iteration of 1000 we get [-1.97273956  3.82687359 -0.87083252] with error 0.04166003491143816\n",
      "For Learning rate of 0.05 and iteration of 5000 we get [-1.95926946  3.82852057 -0.8800455 ] with error 0.04185258016431054\n",
      "For Learning rate of 0.05 and iteration of 10000 we get [-2.03169637  3.96727014 -0.91224909] with error 0.03930618225143562\n",
      "For Learning rate of 0.05 and iteration of 25000 we get [-2.0402246   3.98531096 -0.91667167] with error 0.03899976634488133\n",
      "For Learning rate of 0.05 and iteration of 50000 we get [-2.01980398  3.91317467 -0.89259827] with error 0.039801939846344406\n",
      "For Learning rate of 0.01 and iteration of 10 we get [0.04156474 0.32694356 0.20635688] with error 1.3849739850695972\n",
      "For Learning rate of 0.01 and iteration of 50 we get [-0.47784487  1.68873361 -0.49266981] with error 0.5777223075349192\n",
      "For Learning rate of 0.01 and iteration of 100 we get [-0.90732323  2.02106268 -0.45898885] with error 0.4023075544809972\n",
      "For Learning rate of 0.01 and iteration of 500 we get [-1.93556753  3.76040476 -0.85543916] with error 0.044177496378932125\n",
      "For Learning rate of 0.01 and iteration of 1000 we get [-1.95353743  3.76203549 -0.84752135] with error 0.043943259112170924\n",
      "For Learning rate of 0.01 and iteration of 5000 we get [-1.9490032   3.80396891 -0.87141045] with error 0.04258087451451313\n",
      "For Learning rate of 0.01 and iteration of 10000 we get [-1.97589415  3.84124431 -0.87751098] with error 0.04141947196778604\n",
      "For Learning rate of 0.01 and iteration of 25000 we get [-1.89328463  3.73118628 -0.86087545] with error 0.0458911015283993\n",
      "For Learning rate of 0.01 and iteration of 50000 we get [-1.90192655  3.70886635 -0.84503734] with error 0.04665346835269549\n",
      "For Learning rate of 0.05 and iteration of 10 we get [-0.71442825  1.03857678 -0.05927923] with error 0.7985672558975246\n",
      "For Learning rate of 0.05 and iteration of 50 we get [-1.64842195  3.19899445 -0.70711113] with error 0.09638030540842708\n",
      "For Learning rate of 0.05 and iteration of 100 we get [-1.99827996  3.85943664 -0.87916454] with error 0.040710422312032854\n",
      "For Learning rate of 0.05 and iteration of 500 we get [-2.04035992  3.98909545 -0.91657794] with error 0.039028843508584835\n",
      "For Learning rate of 0.05 and iteration of 1000 we get [-2.03611638  3.97062927 -0.91418773] with error 0.03921289875614958\n",
      "For Learning rate of 0.05 and iteration of 5000 we get [-2.02671266  3.94383637 -0.90977154] with error 0.03927542995248799\n",
      "For Learning rate of 0.05 and iteration of 10000 we get [-2.03473509  3.96981698 -0.9156668 ] with error 0.03909553493194305\n",
      "For Learning rate of 0.05 and iteration of 25000 we get [-2.01722213  3.92751635 -0.89909636] with error 0.03959805415018884\n",
      "For Learning rate of 0.05 and iteration of 50000 we get [-2.00471415  3.90177527 -0.89403451] with error 0.04003916147905308\n",
      "For Learning rate of 0.1 and iteration of 10 we get [-0.96358381  1.97701249 -0.4251976 ] with error 0.4226885330338316\n",
      "For Learning rate of 0.1 and iteration of 50 we get [-1.97738065  3.85578068 -0.88088118] with error 0.04068350354911444\n",
      "For Learning rate of 0.1 and iteration of 100 we get [-2.04604344  3.98862331 -0.92822509] with error 0.0384988318898669\n",
      "For Learning rate of 0.1 and iteration of 500 we get [-2.02309247  3.97019254 -0.9088523 ] with error 0.03868142307493842\n",
      "For Learning rate of 0.1 and iteration of 1000 we get [-2.04551129  3.99516973 -0.92781175] with error 0.03898634103644931\n",
      "For Learning rate of 0.1 and iteration of 5000 we get [-2.0340889   3.94779858 -0.91429087] with error 0.03875337102665348\n",
      "For Learning rate of 0.1 and iteration of 10000 we get [-2.01947346  3.92147016 -0.90213904] with error 0.03942412039037609\n",
      "For Learning rate of 0.1 and iteration of 25000 we get [-2.04366657  3.9969047  -0.9232425 ] with error 0.03879868104887369\n",
      "For Learning rate of 0.1 and iteration of 50000 we get [-2.04190155  3.99837247 -0.91921898] with error 0.038694425994566274\n",
      "For Learning rate of 0.3 and iteration of 10 we get [-1.82856314  3.45207039 -0.75237659] with error 0.06637843232177285\n",
      "For Learning rate of 0.3 and iteration of 50 we get [-2.03194689  3.99834355 -0.91441204] with error 0.036280646640519706\n",
      "For Learning rate of 0.3 and iteration of 100 we get [-2.05195246  3.99390921 -0.93651115] with error 0.036576606580832186\n",
      "For Learning rate of 0.3 and iteration of 500 we get [-2.06588223  3.97511473 -0.96652867] with error 0.036953460411683785\n",
      "For Learning rate of 0.3 and iteration of 1000 we get [-2.05677363  3.97896351 -0.94806801] with error 0.03738619943761123\n",
      "For Learning rate of 0.3 and iteration of 5000 we get [-2.05219376  3.99392069 -0.92810489] with error 0.03753793306624867\n",
      "For Learning rate of 0.3 and iteration of 10000 we get [-2.02372843  4.01517469 -0.8821753 ] with error 0.036721433891479645\n",
      "For Learning rate of 0.3 and iteration of 25000 we get [-2.04267715  4.00661779 -0.91378101] with error 0.037805513890493136\n",
      "For Learning rate of 0.3 and iteration of 50000 we get [-2.0468755   3.99540392 -0.92098163] with error 0.03676752186268271\n"
     ]
    }
   ],
   "source": [
    "for l in Learning_rates:\n",
    "    for m in MaxIter:\n",
    "        error_list, w = least_squares_grad_desc(X, y, m, l, mini_batch_update, 10)\n",
    "        print(\"For Learning rate of \"+str(l)+\" and iteration of \"+str(m)+\" we get \"+str(w)+\" with error \"+str(error_list[-1]))"
   ]
  },
  {
   "cell_type": "markdown",
   "metadata": {
    "colab_type": "text",
    "id": "mMNxMJJdVhOj"
   },
   "source": [
    "(B) What settings worked well for you:  online vs. batch vs. minibatch? What step size? How did you decide to terminate?"
   ]
  },
  {
   "cell_type": "markdown",
   "metadata": {
    "colab": {},
    "colab_type": "code",
    "id": "PyFSefo3VhOk"
   },
   "source": [
    "### Online vs. batch vs. minibatch\n",
    "Since we do not have any held out data for this experiment, we assume that the lowest training data error is the best model. Based on that assumption.\n",
    "\n",
    "The following settings worked well for each type of update:\n",
    "\n",
    "1. Online update\n",
    "    - step size = $0.01$ (alpha)\n",
    "    - error = ~$0.039$\n",
    "    \n",
    "2. Batch update\n",
    "    - step size = $0.3$ (alpha)\n",
    "    - error = ~$0.039$\n",
    "\n",
    "3. Minibatch update\n",
    "    - step size = $0.3$ (alpha)\n",
    "    - error = ~$0.036$\n",
    "\n",
    "\n",
    "### What step size\n",
    "It seems that when we do (mini)batch update a relatively large step size is required. I assume this is because when we do batch update we have a more stable gradient then online update. Thus, we can have a larger step size.\n",
    "\n",
    "### How did you decide to terminate\n",
    "Decided to terminate when the absolute change in the error is less then $0.01\\%$\n",
    "\n",
    "\n",
    "*In the below graph I set the parameters to the same step size and iteration so we can compare the three.\n",
    "According to the graph data in __(C)__ we can see that:\n",
    "- __Online Update__ converges fastest, __Batch Update__ converges slowest. This is by looking at the graph not the number of epochs, the number of epochs is dependent on how I define to terminate\n",
    "- __Minibatch Update__ gives the least error, __Online Update__ gives the most. This is based on the error rate  that is being reported."
   ]
  },
  {
   "cell_type": "markdown",
   "metadata": {
    "colab_type": "text",
    "id": "bXxAjKTtVhOm"
   },
   "source": [
    "(C) Make a graph of error on the entire data set as a function of epoch. An epoch is a complete sweep through all the data (which is one iteration for full-batch gradient descent)."
   ]
  },
  {
   "cell_type": "code",
   "execution_count": 8,
   "metadata": {
    "colab": {},
    "colab_type": "code",
    "id": "j3rvqIrYVhOn"
   },
   "outputs": [
    {
     "name": "stdout",
     "output_type": "stream",
     "text": [
      "maxIter = 50000, no. of epochs = 44 , error = 0.04189286210164008\n"
     ]
    },
    {
     "data": {
      "image/png": "[encoded data removed]",
      "text/plain": [
       "<Figure size 432x288 with 1 Axes>"
      ]
     },
     "metadata": {
      "needs_background": "light"
     },
     "output_type": "display_data"
    },
    {
     "name": "stdout",
     "output_type": "stream",
     "text": [
      "maxIter = 50000, no. of epochs = 640 , error = 0.03970893577590363\n"
     ]
    },
    {
     "data": {
      "image/png": "[encoded data removed]",
      "text/plain": [
       "<Figure size 432x288 with 1 Axes>"
      ]
     },
     "metadata": {
      "needs_background": "light"
     },
     "output_type": "display_data"
    },
    {
     "name": "stdout",
     "output_type": "stream",
     "text": [
      "maxIter = 50000, no. of epochs = 117 , error = 0.038618258883733034\n"
     ]
    },
    {
     "data": {
      "image/png": "[encoded data removed]",
      "text/plain": [
       "<Figure size 432x288 with 1 Axes>"
      ]
     },
     "metadata": {
      "needs_background": "light"
     },
     "output_type": "display_data"
    }
   ],
   "source": [
    "# ONLINE\n",
    "\n",
    "maxIter = 50000\n",
    "alpha = 0.1\n",
    "error_list,w=least_squares_grad_desc(X, y, maxIter, alpha, online_epoch)\n",
    "print (\"maxIter = 50000, no. of epochs =\", len(error_list), \", error =\", error_list[-1])\n",
    "\n",
    "plt.plot([i for i in range(len(error_list))], error_list, 'y')\n",
    "plt.title('Online alpha = 0.1')\n",
    "plt.xlabel('Number of epochs')\n",
    "plt.ylabel('Mean Square Error')\n",
    "plt.show()\n",
    "\n",
    "\n",
    "# BATCH\n",
    "\n",
    "maxIter = 50000\n",
    "alpha = 0.1\n",
    "error_list,w=least_squares_grad_desc(X, y, maxIter, alpha, batch_update)\n",
    "print (\"maxIter = 50000, no. of epochs =\", len(error_list), \", error =\", error_list[-1])\n",
    "\n",
    "plt.plot([i for i in range(len(error_list))], error_list, 'g')\n",
    "plt.title('Batch alpha = 0.1')\n",
    "plt.xlabel('Number of epochs')\n",
    "plt.ylabel('Mean Square Error')\n",
    "plt.show()\n",
    "\n",
    "# MINI-BATCH\n",
    "\n",
    "maxIter = 50000\n",
    "alpha = 0.1\n",
    "error_list,w=least_squares_grad_desc(X, y, maxIter, alpha, mini_batch_update, 10)\n",
    "print (\"maxIter = 50000, no. of epochs =\", len(error_list), \", error =\", error_list[-1])\n",
    "\n",
    "plt.plot([i for i in range(len(error_list))], error_list)\n",
    "plt.title('Mini-batch alpha = 0.1 batch-size = 10')\n",
    "plt.xlabel('Number of epochs')\n",
    "plt.ylabel('Mean Square Error')\n",
    "plt.show()"
   ]
  },
  {
   "cell_type": "markdown",
   "metadata": {
    "colab_type": "text",
    "id": "u2WH5OVEVhOp"
   },
   "source": [
    "## Part 3"
   ]
  },
  {
   "cell_type": "markdown",
   "metadata": {
    "colab_type": "text",
    "id": "POTbQx4cVhOp"
   },
   "source": [
    "The data set from a regression problem can be converted into a classification problem simply by using the sign of (+ or -) as representing one of two classes. In the data set used in Part 1 and 2, you'll see the variable z that represents this binary (0 or 1) class.\n",
    "\n",
    "Use the perceptron learning rule to solve for the coefficients {$w_1$, $w_2$, $b$} of this classification problem.   \n",
    "\n",
    "Two warnings: First, your solution to Part 3 should require only a few lines of code changed from the code you wrote for Part 2. Second, the Perceptron algorithm will not converge if there is no exact solution to the training data. It will jitter among coefficients that all yield roughly equally good solutions."
   ]
  },
  {
   "cell_type": "markdown",
   "metadata": {
    "colab_type": "text",
    "id": "Qs7gbsbjVhOq"
   },
   "source": [
    "Complete the following functions below and use them to answer questions (A) and (B). \n",
    "\n",
    "**Note:** Please do not change the interface of the given functions."
   ]
  },
  {
   "cell_type": "code",
   "execution_count": 9,
   "metadata": {
    "colab": {},
    "colab_type": "code",
    "id": "anej2h2pVhOr"
   },
   "outputs": [],
   "source": [
    "def change_y_values(y):\n",
    "    y_ = np.copy(y)\n",
    "    for i in range(len(y_)):\n",
    "        if y_[i] == 0:\n",
    "            y_[i] = -1\n",
    "    return y_\n",
    "\n",
    "def perceptron_update(X, y, w, alpha):\n",
    "    \"\"\"\n",
    "    One epoch of Perceptron updates (full sweep of the dataset).\n",
    "    \n",
    "    Parameters\n",
    "    ----------\n",
    "    X : NumPy array of features (size : no of examples X features)\n",
    "    y : Numpy array of class labels (size : no of examples X 1)\n",
    "    w : array of coefficients from the previous iteration\n",
    "    \n",
    "    Returns\n",
    "    -------\n",
    "    w : Coefficients of the classifier (after updating)\n",
    "    incorrect : Incorrectly classified examples\n",
    "    \"\"\"\n",
    "    y_ = change_y_values(y)\n",
    "    incorrect = 0\n",
    "    \n",
    "    for i in range(len(y)):\n",
    "        if y_[i] * np.dot(X[i],w) < 0:\n",
    "            w += alpha*y_[i]*X[i]\n",
    "            incorrect += 1\n",
    "    \n",
    "    return w,incorrect\n",
    "            \n",
    "    #pass\n",
    "\n",
    "def perceptron(X, y, maxIter, alpha):\n",
    "    \"\"\"\n",
    "    Implements the Perceptron algorithm.\n",
    "    \n",
    "    Parameters\n",
    "    ----------\n",
    "    X : NumPy array of features (size : no of examples X features)\n",
    "    y : Numpy array of class labels (size : no of examples X 1)\n",
    "    maxIter : The maximum number of iterations allowed \n",
    "    alpha : Learning Rate\n",
    "    \n",
    "    Returns\n",
    "    -------\n",
    "    w : Coefficients of the classifier\n",
    "    incorrect : Incorrectly classified examples on termination\n",
    "    \"\"\"\n",
    "    incorrect_list=[]\n",
    "    w = np.random.rand(len(X[0]))\n",
    "    for i in range(maxIter):\n",
    "        X, y = shuffle(X, y)\n",
    "        w, incorrect = perceptron_update(X, y, w, alpha)\n",
    "        if i>200 and error_difference(incorrect_list[-1],incorrect):\n",
    "            return w, incorrect_list\n",
    "        incorrect_list.append(incorrect)\n",
    "    return w,incorrect_list\n",
    "    #pass"
   ]
  },
  {
   "cell_type": "markdown",
   "metadata": {
    "colab_type": "text",
    "id": "CiM8viPnVhOt"
   },
   "source": [
    "(A) Report the values of coefficients $w_1$, $w_2$, and $b$."
   ]
  },
  {
   "cell_type": "code",
   "execution_count": 10,
   "metadata": {
    "colab": {},
    "colab_type": "code",
    "id": "Jl1YoCt-VhOt"
   },
   "outputs": [
    {
     "name": "stdout",
     "output_type": "stream",
     "text": [
      "w1 = -0.2040116810411209\n",
      "w2 = 0.3164602160423371\n",
      "b = -0.03477364963554747\n",
      "Incorrect examples: 3\n"
     ]
    }
   ],
   "source": [
    "w, incorrect_list = perceptron(X, z, 1000, 0.01)\n",
    "print (\"w1 =\", w[0])\n",
    "print (\"w2 =\", w[1])\n",
    "print (\"b =\", w[2])\n",
    "print (\"Incorrect examples:\", incorrect_list[-1])"
   ]
  },
  {
   "cell_type": "markdown",
   "metadata": {
    "colab_type": "text",
    "id": "v9MObKUYVhOv"
   },
   "source": [
    "(B) Make a graph of the accuracy (% correct classification) on the training set as a function of epoch."
   ]
  },
  {
   "cell_type": "code",
   "execution_count": 11,
   "metadata": {
    "colab": {},
    "colab_type": "code",
    "id": "x8yAplB5VhOw"
   },
   "outputs": [
    {
     "data": {
      "image/png": "[encoded data removed]",
      "text/plain": [
       "<Figure size 432x288 with 1 Axes>"
      ]
     },
     "metadata": {
      "needs_background": "light"
     },
     "output_type": "display_data"
    }
   ],
   "source": [
    "accuracy = 1.0 - (np.array(incorrect_list) / len(z))\n",
    "\n",
    "plt.title(\"Perceptron\")\n",
    "plt.xlabel(\"Number of Epochs\")\n",
    "plt.ylabel(\"Accuracy\")\n",
    "plt.plot([i for i in range(len(incorrect_list))], accuracy)\n",
    "plt.show()"
   ]
  },
  {
   "cell_type": "markdown",
   "metadata": {
    "colab_type": "text",
    "id": "AfXBONZZVhOy"
   },
   "source": [
    "## Part 4"
   ]
  },
  {
   "cell_type": "markdown",
   "metadata": {
    "colab_type": "text",
    "id": "zO2ij9gIVhOy"
   },
   "source": [
    "In machine learning, we really want to train a model based on some data and then expect the model to do well on \"out of sample\" data. Try this with the code you wrote for Part 3:  Train the model on the first {5, 10, 25, 50, 75} examples in the data set and test the model on the final 25 examples."
   ]
  },
  {
   "cell_type": "markdown",
   "metadata": {
    "colab_type": "text",
    "id": "F66-PYWKVhOz"
   },
   "source": [
    "Complete the following function below and use it to answer (A). \n",
    "\n",
    "**Note:** Please do not change the interface of the given function."
   ]
  },
  {
   "cell_type": "code",
   "execution_count": 12,
   "metadata": {
    "colab": {},
    "colab_type": "code",
    "id": "3wseIfmUVhOz"
   },
   "outputs": [],
   "source": [
    "def classify(X, y, w):\n",
    "    \"\"\"\n",
    "    Use this function to classify examples in the test set\n",
    "    \n",
    "    Parameters\n",
    "    ----------\n",
    "    X : Test set features\n",
    "    y : Test set labels\n",
    "    w : Perceptron coefficients\n",
    "    \n",
    "    Returns\n",
    "    -------\n",
    "    correct : number of correctly classified examples\n",
    "    \"\"\"\n",
    "    correct = 0\n",
    "    \n",
    "    y_ = change_y_values(y)\n",
    "    \n",
    "    for i in range(len(y)):\n",
    "        if y_[i] * np.dot(X[i],w) > 0:\n",
    "            correct += 1\n",
    "    \n",
    "    return correct\n",
    "    #pass"
   ]
  },
  {
   "cell_type": "markdown",
   "metadata": {
    "colab_type": "text",
    "id": "I3D_lEO8VhO3"
   },
   "source": [
    "How does performance on the test set vary with the amount of training data? Make a bar graph showing performance for each of the different training set sizes."
   ]
  },
  {
   "cell_type": "code",
   "execution_count": 13,
   "metadata": {
    "colab": {},
    "colab_type": "code",
    "id": "0GrkjpYDVhO4"
   },
   "outputs": [
    {
     "name": "stdout",
     "output_type": "stream",
     "text": [
      "The correct percentage is: [0.68, 0.72, 0.92, 0.96, 0.96]\n"
     ]
    },
    {
     "data": {
      "image/png": "[encoded data removed]",
      "text/plain": [
       "<Figure size 432x288 with 1 Axes>"
      ]
     },
     "metadata": {
      "needs_background": "light"
     },
     "output_type": "display_data"
    }
   ],
   "source": [
    "train_sets = [5, 10, 25, 50, 75]\n",
    "correct_list = []\n",
    "X_test = X[-25:]\n",
    "z_test = z[-25:]\n",
    "for train_set in train_sets:\n",
    "    X_train = X[:train_set]\n",
    "    z_train = z[:train_set]\n",
    "    w, incorrect = perceptron(X_train, z_train, 1000, 0.001)\n",
    "    correct = classify(X_test, z_test, w)\n",
    "    correct_list.append(correct / len(z_test))\n",
    "print(\"The correct percentage is:\",correct_list)\n",
    "plt.bar(train_sets, correct_list, width=2.5)\n",
    "plt.xlabel(\"Training Set Size\")\n",
    "plt.ylabel(\"Correct Examples\")\n",
    "plt.title(\"Performance on Test Set\")\n",
    "\n",
    "plt.show()"
   ]
  },
  {
   "cell_type": "markdown",
   "metadata": {},
   "source": [
    "Usually the performance increase as the number of training data increases. However, at a certain point no matter how many training set we increase the performance saturates. This could be because the additional training set doesn't give any additional information about finding the optimal decision boundary, or it could be that this is the best result with the latent structure of the data"
   ]
  }
 ],
 "metadata": {
  "colab": {
   "collapsed_sections": [],
   "name": "2020 assignment_1.ipynb",
   "provenance": []
  },
  "kernelspec": {
   "display_name": "Python 3",
   "language": "python",
   "name": "python3"
  },
  "language_info": {
   "codemirror_mode": {
    "name": "ipython",
    "version": 3
   },
   "file_extension": ".py",
   "mimetype": "text/x-python",
   "name": "python",
   "nbconvert_exporter": "python",
   "pygments_lexer": "ipython3",
   "version": "3.7.3"
  }
 },
 "nbformat": 4,
 "nbformat_minor": 1
}

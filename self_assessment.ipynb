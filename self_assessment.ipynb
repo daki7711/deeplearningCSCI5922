{
  "nbformat": 4,
  "nbformat_minor": 0,
  "metadata": {
    "kernelspec": {
      "display_name": "Python 3",
      "language": "python",
      "name": "python3"
    },
    "language_info": {
      "codemirror_mode": {
        "name": "ipython",
        "version": 3
      },
      "file_extension": ".py",
      "mimetype": "text/x-python",
      "name": "python",
      "nbconvert_exporter": "python",
      "pygments_lexer": "ipython3",
      "version": "3.7.6"
    },
    "colab": {
      "name": "self-assessment.ipynb",
      "provenance": [],
      "collapsed_sections": [],
      "toc_visible": true
    }
  },
  "cells": [
    {
      "cell_type": "markdown",
      "metadata": {
        "id": "DliiEo3gyF5n",
        "colab_type": "text"
      },
      "source": [
        "# Task\n",
        "\n",
        "[Matrix multiplication](https://en.wikipedia.org/wiki/Matrix_multiplication) is a fundamental linear algebraic operation, working knowledge of which is a prerequisite to understanding modern neural networks. In this assignment, you will implement matrix multiplication in pure Python (`python_matmul`) and in Python using NumPy (`numpy_matmul`). Skeletal versions of the two functions are provided in the included Python source file.\n",
        "\n",
        "This assignment is an opportunity for you to assess your preparedness for the course. It does not count towards your final grade."
      ]
    },
    {
      "cell_type": "code",
      "metadata": {
        "id": "2vLOihEuyF5p",
        "colab_type": "code",
        "colab": {}
      },
      "source": [
        "import numpy as np"
      ],
      "execution_count": 0,
      "outputs": []
    },
    {
      "cell_type": "code",
      "metadata": {
        "id": "8YKKPq1kyF5u",
        "colab_type": "code",
        "colab": {}
      },
      "source": [
        "def python_matmul(X, Y):\n",
        "    \"\"\"\n",
        "    Multiply 2-dimensional numpy arrays using pure Python.\n",
        "\n",
        "    Parameters\n",
        "    ----------\n",
        "    X : list\n",
        "        A list of M elements, each of which is an N-element list.\n",
        "    Y : list\n",
        "        A list of N elements, each of which is a K-element list.\n",
        "\n",
        "    Returns\n",
        "    ----------\n",
        "    A list of M elements, each of which is a K-element list.\n",
        "    \"\"\"\n",
        "    if not isinstance(X, list):\n",
        "        raise ValueError('X must be list')\n",
        "    if not isinstance(Y, list):\n",
        "        raise ValueError('Y must be list')\n",
        "    if not isinstance(X[0], list):\n",
        "        raise ValueError('X must be 2-dimensional')\n",
        "    if not isinstance(Y[0], list):\n",
        "        raise ValueError('Y must be 2-dimensional')\n",
        "    if not len(X[0]) == len(Y):\n",
        "        raise ValueError('Column length of X must equal row length of Y')\n",
        "\n",
        "    result = [[sum(x * y for x, y in zip(X_row, Y_col))  \n",
        "                        for Y_col in zip(*Y)] \n",
        "                                for X_row in X] \n",
        "    return result\n",
        "    #raise NotImplementedError()"
      ],
      "execution_count": 0,
      "outputs": []
    },
    {
      "cell_type": "code",
      "metadata": {
        "id": "Kmd291aKyF5x",
        "colab_type": "code",
        "colab": {}
      },
      "source": [
        "def numpy_matmul(X, Y):\n",
        "    \"\"\"\n",
        "    Multiply 2-dimensional numpy arrays using PEP-0465 infix operator.\n",
        "\n",
        "    Parameters\n",
        "    ----------\n",
        "    X : np.ndarray\n",
        "        An MxN array.\n",
        "    Y : np.ndarray\n",
        "        An NxK array.\n",
        "\n",
        "    Returns\n",
        "    ----------\n",
        "    An MxK array.\n",
        "    \"\"\"\n",
        "    \n",
        "    if not isinstance(X, np.ndarray):\n",
        "        raise ValueError('X must be ndarray')\n",
        "    if not isinstance(Y, np.ndarray):\n",
        "        raise ValueError('Y must be ndarray')\n",
        "    if not X.ndim == 2:\n",
        "        raise ValueError('X must be 2-dimensional')\n",
        "    if not Y.ndim == 2:\n",
        "        raise ValueError('Y must be 2-dimensional')\n",
        "    if X.shape[1] != Y.shape[0]:\n",
        "        raise ValueError(\n",
        "            'Columns of X ({:d}) must equal rows of Y ({:d}'.format(\n",
        "                X.shape[1], Y.shape[0]))\n",
        "    return np.dot(X,Y)\n",
        "    #raise NotImplementedError()"
      ],
      "execution_count": 0,
      "outputs": []
    },
    {
      "cell_type": "code",
      "metadata": {
        "id": "FPzO9j2SH3BQ",
        "colab_type": "code",
        "colab": {
          "base_uri": "https://localhost:8080/",
          "height": 34
        },
        "outputId": "c5972eb0-64ea-4b1d-98d8-68472c54d812"
      },
      "source": [
        "X=[[1,2,3],[4,5,6],[7,8,9],[10,11,12]]\n",
        "Y=[[1,2],[1,2],[3,4]]\n",
        "print(python_matmul(X, Y))"
      ],
      "execution_count": 6,
      "outputs": [
        {
          "output_type": "stream",
          "text": [
            "[[12, 18], [27, 42], [42, 66], [57, 90]]\n"
          ],
          "name": "stdout"
        }
      ]
    },
    {
      "cell_type": "code",
      "metadata": {
        "id": "yyYUHFsJIQuS",
        "colab_type": "code",
        "colab": {
          "base_uri": "https://localhost:8080/",
          "height": 85
        },
        "outputId": "98c8b900-9c29-4abf-af15-06244d164f2e"
      },
      "source": [
        "X=np.array([[1,2,3],[4,5,6],[7,8,9],[10,11,12]])\n",
        "Y=np.array([[1,2],[1,2],[3,4]])\n",
        "print(numpy_matmul(X, Y))"
      ],
      "execution_count": 7,
      "outputs": [
        {
          "output_type": "stream",
          "text": [
            "[[12 18]\n",
            " [27 42]\n",
            " [42 66]\n",
            " [57 90]]\n"
          ],
          "name": "stdout"
        }
      ]
    },
    {
      "cell_type": "markdown",
      "metadata": {
        "id": "Fy40Je3hyF5z",
        "colab_type": "text"
      },
      "source": [
        "# Survey\n",
        "Briefly describe your (research) interest in deep learning/machine learning in the cell below."
      ]
    },
    {
      "cell_type": "markdown",
      "metadata": {
        "id": "17U737iDeWdk",
        "colab_type": "text"
      },
      "source": [
        "I am currently working under Prof. Michael Mozer with an RA. The RA project is about finding the relationship between student's highlights and their understandment of the text. In the process we use deep learning techniques to find a more rigorous relation instead of mearly using logistic regression. During this class I want to find out how to utilize deep learning in real world cases, what problems occur that are not in the textbook, learn if it is really usful then original machine learning techniques in general cases. "
      ]
    },
    {
      "cell_type": "code",
      "metadata": {
        "id": "3_mD3oImRGxq",
        "colab_type": "code",
        "colab": {}
      },
      "source": [
        ""
      ],
      "execution_count": 0,
      "outputs": []
    }
  ]
}
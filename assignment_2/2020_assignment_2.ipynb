{
  "nbformat": 4,
  "nbformat_minor": 0,
  "metadata": {
    "kernelspec": {
      "display_name": "Python 3",
      "language": "python",
      "name": "python3"
    },
    "language_info": {
      "codemirror_mode": {
        "name": "ipython",
        "version": 3
      },
      "file_extension": ".py",
      "mimetype": "text/x-python",
      "name": "python",
      "nbconvert_exporter": "python",
      "pygments_lexer": "ipython3",
      "version": "3.7.1"
    },
    "colab": {
      "name": "2020_assignment_2.ipynb",
      "provenance": []
    }
  },
  "cells": [
    {
      "cell_type": "markdown",
      "metadata": {
        "id": "rqasjWXKT7e1",
        "colab_type": "text"
      },
      "source": [
        "# Neural Network\n",
        "***\n",
        "**Name**: David Young-Jae Kim\n",
        "***\n",
        "\n",
        "## Goal\n",
        "\n",
        "The goal of this assignment is to build a one-hidden-layer back propagation network to process real data.  For this assignment you will implement the neural net (activation function and training code) yourself, not using tensorflow or other deep learning frameworks. The purpose is for you to understand the nitty gritty of what these frameworks are doing for you before we switch over to using them."
      ]
    },
    {
      "cell_type": "markdown",
      "metadata": {
        "id": "fqaKTi8nT7e3",
        "colab_type": "text"
      },
      "source": [
        "## Data \n",
        "***\n",
        "\n",
        "In this assignment you will be using the Occupancy Detection data set (ODD). It consists of experimental data used for binary classification of room occupancy (i.e., room is occupied versus empty) based on temperature, humidity, light, and CO2 sensors. The train and test data sets are each collected over a week period.\n",
        "\n",
        "The data set includes time stamps with date and hour/minute/second within the day. You are **not to use time stamp features** for predicting occupancy. Since this is a commercial office building, the time stamp is a strong predictor of occupancy. Rather, the goal is to determine whether occupancy - **occ** can be sensed from:\n",
        "1. temperature, expressed in degrees Celsius - **temp**\n",
        "2. relative humidity, expressed as a % - **hum**\n",
        "3. light, in lux - **light**\n",
        "4. CO2, in ppm - **cdx**\n",
        "5. humidity ratio, which is derived from the temperature and the relative humidity - **hum_ratio**"
      ]
    },
    {
      "cell_type": "code",
      "metadata": {
        "id": "9zSpeEe9T7e5",
        "colab_type": "code",
        "colab": {}
      },
      "source": [
        "import numpy as np\n",
        "import pandas as pd\n",
        "import pickle\n",
        "from sklearn.model_selection import train_test_split\n",
        "from sklearn.utils import shuffle\n",
        "from matplotlib import pyplot as plt"
      ],
      "execution_count": 0,
      "outputs": []
    },
    {
      "cell_type": "code",
      "metadata": {
        "id": "AIhQIulfT7e-",
        "colab_type": "code",
        "colab": {}
      },
      "source": [
        "data = pd.read_csv('data/datatraining.txt')\n",
        "X = data[['date', 'Humidity', 'Light', 'CO2', 'HumidityRatio', 'Temperature']].values\n",
        "y = data['Occupancy'].values\n",
        "\n",
        "X_train, X_test, y_train, y_test = train_test_split(X, y, test_size=0.1)"
      ],
      "execution_count": 0,
      "outputs": []
    },
    {
      "cell_type": "markdown",
      "metadata": {
        "id": "tgtFYvraT7fD",
        "colab_type": "text"
      },
      "source": [
        "### 1. Perceptron\n",
        "***\n",
        "\n",
        "Using the perceptron code you wrote for Assignment 1, train a perceptron (linear activation function with a binary threshold) using the training set. Your perceptron should have the 5 input variables described above.\n",
        "\n",
        "**Part A**: Report the training and test set performance in terms of % examples classified correctly after 100 epochs.\n",
        "\n",
        "**NOTE**: The Perceptron Update Rule is guaranteed to converge only if there is a setting of the weights that will classify the training set perfectly.  (The learning rule minimizes mistakes. When all examples are classified correctly, the weights stop changing.)  With a noisy data set like this one, the algorithm may not terminate.  Also remember that the perceptron algorithm is performing stochastic gradient descent. Thus, it will jitter around the ideal solution continually changing the weights from one iteration to the next. The weight changes will have a small effect on performance, so you'll see training set performance jitter a bit as well."
      ]
    },
    {
      "cell_type": "code",
      "metadata": {
        "id": "N-97JoqrT7fP",
        "colab_type": "code",
        "outputId": "f474ea37-4932-468f-cff3-2dc718b6c947",
        "colab": {
          "base_uri": "https://localhost:8080/",
          "height": 85
        }
      },
      "source": [
        "def change_y_values(y):\n",
        "    y_ = np.copy(y)\n",
        "    for i in range(len(y_)):\n",
        "        if y_[i] == 0:\n",
        "            y_[i] = -1\n",
        "    return y_\n",
        "\n",
        "def perceptron_update(X, y, w, alpha):\n",
        "    \"\"\"\n",
        "    One epoch of Perceptron updates (full sweep of the dataset).\n",
        "    \n",
        "    Parameters\n",
        "    ----------\n",
        "    X : NumPy array of features (size : no of examples X features)\n",
        "    y : Numpy array of class labels (size : no of examples X 1)\n",
        "    w : array of coefficients from the previous iteration\n",
        "    \n",
        "    Returns\n",
        "    -------\n",
        "    w : Coefficients of the classifier (after updating)\n",
        "    incorrect : Incorrectly classified examples\n",
        "    \"\"\"\n",
        "    y_ = change_y_values(y)\n",
        "    incorrect = 0\n",
        "    \n",
        "    for i in range(len(y)):\n",
        "        if y_[i] * np.dot(X[i],w) < 0:\n",
        "            w = w + alpha*y_[i]*X[i]\n",
        "            incorrect += 1\n",
        "    \n",
        "    return w,incorrect\n",
        "\n",
        "def perceptron(X, y, maxIter, alpha):\n",
        "    \"\"\"\n",
        "    Implements the Perceptron algorithm.\n",
        "    \n",
        "    Parameters\n",
        "    ----------\n",
        "    X : NumPy array of features (size : no of examples X features)\n",
        "    y : Numpy array of class labels (size : no of examples X 1)\n",
        "    maxIter : The maximum number of iterations allowed \n",
        "    alpha : Learning Rate\n",
        "    \n",
        "    Returns\n",
        "    -------\n",
        "    w : Coefficients of the classifier\n",
        "    incorrect : Incorrectly classified examples on termination\n",
        "    \"\"\"\n",
        "    incorrect_list=[]\n",
        "    w = np.random.rand(len(X[0]))\n",
        "    for i in range(maxIter):\n",
        "        X, y = shuffle(X, y)\n",
        "        w, incorrect = perceptron_update(X, y, w, alpha)\n",
        "        incorrect_list.append(incorrect)\n",
        "    return w,incorrect_list[-1]\n",
        "\n",
        "w, n = perceptron(X_train.T[1:].T, y_train, 100, 0.001)\n",
        "\n",
        "print(w)\n",
        "print(n)\n",
        "\n",
        "def classify(X, y, w):\n",
        "    \"\"\"\n",
        "    Use this function to classify examples in the test set\n",
        "    \n",
        "    Parameters\n",
        "    ----------\n",
        "    X : Test set features\n",
        "    y : Test set labels\n",
        "    w : Perceptron coefficients\n",
        "    \n",
        "    Returns\n",
        "    -------\n",
        "    correct : number of correctly classified examples\n",
        "    \"\"\"\n",
        "    correct = 0\n",
        "    y_ = change_y_values(y) \n",
        "    for i in range(len(y)):\n",
        "        if y_[i] * np.dot(X[i],w) > 0:\n",
        "            correct += 1\n",
        "    return correct\n",
        "\n",
        "print(classify(X_test.T[1:].T,y_test,w)/len(y_test))"
      ],
      "execution_count": 0,
      "outputs": [
        {
          "output_type": "stream",
          "text": [
            "[-14.502511154077919 3.089206643316477 1.1723452439606552\n",
            " 0.3054056585095855 -68.64948481017025]\n",
            "221\n",
            "0.9852760736196319\n"
          ],
          "name": "stdout"
        }
      ]
    },
    {
      "cell_type": "markdown",
      "metadata": {
        "id": "_-Ax7TYST7fV",
        "colab_type": "text"
      },
      "source": [
        "### 2. 1-layer feedforward neural net\n",
        "***\n",
        "\n",
        "In this part, you will implement a 1-layer feedforward neural network from scratch as shown in the figure below.\n",
        "<img src=\"./res/mlp_ann.png\" alt=\"mlp_ann\" style=\"width:500px;\"/>\n",
        "Your tasks are as follows:"
      ]
    },
    {
      "cell_type": "markdown",
      "metadata": {
        "id": "QWemls3jT7fW",
        "colab_type": "text"
      },
      "source": [
        "**PART 2.A**\n",
        "\n",
        "1. Implement `sigmoid(x)`: In this assignment, we will be using the sigmoid activation function as the non-linearity.\n",
        "2. Implement `forward(x)` which calculates the activations at layer 1, 2 and 3 (stored in variables `_a01`, `_a12`, `_a23` respectively) and returns the final layer activations.\n",
        "3. Implement `backward(y, y_hat)` such that it returns layer 1 and layer 2 gradients using the mean squared loss between the predicted and groundtruth vectors.\n",
        "4. Implement `update(l1_grad, l2_grad)` function which will update the weights and biases stored in `_W1, _W2 and _b1, _b2`.\n",
        "5. Implement`train(X, y, epochs)`.\n",
        "6. Implement `predict(X)` to return one-hot encoded representation of the `_a23` layer activation."
      ]
    },
    {
      "cell_type": "code",
      "metadata": {
        "id": "LOqA6TdIT7fZ",
        "colab_type": "code",
        "colab": {}
      },
      "source": [
        "\n",
        "rndg = np.random.RandomState(seed=0)\n",
        "\n",
        "class MLP(object):\n",
        "    \"\"\"\n",
        "        -- Skeleton Code for a Multi-Layer Perceptron Neural Net.\n",
        "           Network has 1 input layer followed by a hidden layer and\n",
        "           an output layer. \n",
        "        \n",
        "    \"\"\"\n",
        "    def __init__(self, n_vis=5, n_hid=10, n_out=1, batch_size=7, lr=0.1):\n",
        "        \"\"\"\n",
        "            Initialize an MLP object.\n",
        "            \n",
        "            params\n",
        "            \n",
        "            n_vis (int): # of neurons in input layer.\n",
        "            n_hid (int): # of neurons in hidden layer.\n",
        "            n_out (int): # number of neurons in final output layer.\n",
        "            batch_size (int): # number of X,y instances in a mini-batch.\n",
        "            lr (double): learning rate/step size.\n",
        "\n",
        "            class variables:\n",
        "            \n",
        "            _W1, _b1 (np.ndarray): \n",
        "                Weights and biases of the input layer respectively.\n",
        "            \n",
        "            _W2, _b2 (np.ndarray):\n",
        "                Weights and biases of the hidden layer respectively.\n",
        "            \n",
        "            _a01, _a12, _a23 (np.ndarray or None):\n",
        "                Activations from input, hidden and output layer respectively. \n",
        "                \n",
        "            _l1_grad_b1, _l2_grad_b2 (np.ndarray or None):\n",
        "                Gradients of the loss w.r.t. the biases. \n",
        "        \"\"\"\n",
        "        self._n_vis = n_vis\n",
        "        self._n_hid = n_hid\n",
        "        self._n_out = n_out\n",
        "        \n",
        "        self._W1 = rndg.normal(size=(self._n_hid, self._n_vis))\n",
        "        self._b1 = np.ones((self._n_hid, 1))\n",
        "\n",
        "        self._W2 = rndg.normal(size=(self._n_out, self._n_hid))\n",
        "        self._b2 = np.ones((self._n_out, 1))\n",
        "\n",
        "        self._a01 = None\n",
        "        self._a12 = None\n",
        "        self._a23 = None\n",
        "        \n",
        "        self._l1_grad_b1 = None\n",
        "        self._l2_grad_b2 = None\n",
        "        \n",
        "        self.batch_size = batch_size\n",
        "        self.lr = lr\n",
        "\n",
        "    def sigmoid(self, X):\n",
        "        \"\"\"\n",
        "            Sigmoid Logistic Function.\n",
        "            \n",
        "            params:\n",
        "            \n",
        "            X (np.ndarray)\n",
        "            \n",
        "            return:\n",
        "            \n",
        "            result (np.ndarray): result = f(X) \n",
        "                where f is the sigmoid function.\n",
        "            \n",
        "        \"\"\"\n",
        "        result = 1.0 / (1.0 + np.exp(-X.astype(float))) \n",
        "        return result\n",
        "        #raise NotImplementedError()\n",
        "        \n",
        "\n",
        "    def forward(self, X):\n",
        "        \"\"\"\n",
        "            Feed forward an input through each \n",
        "            of the layers of network.\n",
        "            \n",
        "            Store each layer activation in the class \n",
        "            variables defined in the constructor. You'll\n",
        "            need them later during backpropogation.\n",
        "            \n",
        "            params:\n",
        "            \n",
        "            X (np.ndarray): batch_size x 5 dimensional array\n",
        "            \n",
        "            return:\n",
        "            \n",
        "            y_hat (np.ndarray): 1 x batch_size dimensional array\n",
        "                representing final layer outputs.\n",
        "            \n",
        "        \"\"\"\n",
        "        self._a01 = X.T\n",
        "        z = np.dot(self._W1, self._a01) + self._b1\n",
        "        self._a12 = self.sigmoid(z)\n",
        "\n",
        "        z = np.dot(self._W2, self._a12) + self._b2\n",
        "        self._a23 = self.sigmoid(z)\n",
        "\n",
        "        return self._a23\n",
        "        #raise NotImplementedError()\n",
        "\n",
        "    def backward(self, y, y_hat):\n",
        "        \n",
        "        \"\"\"\n",
        "            Implement the backpropogation algorithm.\n",
        "            Assume mean squared loss at the output.\n",
        "            calculate and update gradients of the loss w.r.t. the biases\n",
        "            \n",
        "            params:\n",
        "            \n",
        "            y (np.ndarray): batch_size x 1 dimensional vector\n",
        "                of grounf truth labels.\n",
        "            y_hat (np.nd_array): 1 x batch_size dimensional vector\n",
        "                of predicted lables from forward().\n",
        "            \n",
        "            return:\n",
        "            \n",
        "            l1_grad (np.ndarray): n_hid x n_vis dimensional array\n",
        "                representing gradients for hidden layer. (gradients of the loss w.r.t. the _W1)\n",
        "                \n",
        "            l2_grad (np.ndarray): 1 x n_hid dimensional array\n",
        "                representing gradients for input layer. (gradients of the loss w.r.t. the _W2)\n",
        "            \n",
        "        \"\"\"\n",
        "        \n",
        "        delta = (y_hat - y) * (y_hat* (1 - y_hat))\n",
        "\n",
        "        l2_grad = np.dot(delta, self._a12.T)\n",
        "        self._l2_grad_b2 = np.mean(delta, axis=1).reshape((self._n_out, 1))\n",
        "\n",
        "        delta = np.dot(self._W2.T, delta) * (self._a12* (1 - self._a12))\n",
        "\n",
        "        l1_grad = np.dot(delta, self._a01.T)\n",
        "        self._l1_grad_b1 = np.mean(delta, axis=1).reshape((self._n_hid, 1))\n",
        "\n",
        "        return l1_grad, l2_grad\n",
        "        #raise NotImplementedError()\n",
        "                \n",
        "    def update(self, l1_grad, l2_grad):\n",
        "        \"\"\"\n",
        "            Implement the update rule for network weights and biases.\n",
        "            \n",
        "            params:\n",
        "            \n",
        "            l1_grad (np.ndarray): gradients for input layer.\n",
        "            l2_grad (np.ndarray): gradients for hidden layer.\n",
        "            \n",
        "            return:\n",
        "            \n",
        "            none.\n",
        "        \"\"\"\n",
        "        # TO-DO\n",
        "        self._W1 = self._W1 - self.lr * l1_grad\n",
        "        self._b1 = self._b1 - self.lr * self._l1_grad_b1\n",
        "\n",
        "        self._W2 = self._W2 - self.lr * l2_grad\n",
        "        self._b2 = self._b2 - self.lr * self._l2_grad_b2\n",
        "        #raise NotImplementedError()\n",
        "        \n",
        "    def predict(self, X, threshold = 0.5):\n",
        "        \"\"\"\n",
        "            Returns one hot encoding of vector X using 0.5\n",
        "            as the threshold.\n",
        "            \n",
        "            params:\n",
        "            \n",
        "            X (np.ndarray): predictions/activations of the output layer.\n",
        "            \n",
        "            return:\n",
        "            \n",
        "            y (np.ndarray): one hot encoding of output layer.\n",
        "        \"\"\"\n",
        "        y_pred = self.forward(X)\n",
        "        for i in range(len(X)):\n",
        "            if y_pred[0][i] >= threshold:\n",
        "                y_pred[0][i] = 1\n",
        "            else:\n",
        "                y_pred[0][i] = 0\n",
        "        return y_pred[0]\n",
        "\n",
        "        #raise NotImplementedError()\n",
        "    \n",
        "    def train(self, X, y, epochs):\n",
        "        \"\"\"\n",
        "            Implement the train loop for n epochs.\n",
        "            In each epoch do the following:\n",
        "            1. Shuffle the dataset.\n",
        "            2. create self.batch_size sized-mini-batches of the dataset.\n",
        "            3. get network predictions using forward().\n",
        "            4. calculate the gradients using backward().\n",
        "            5. update the network weights using update().\n",
        "            6. Repeat 1-5 until convergence.\n",
        "            \n",
        "            params:\n",
        "            \n",
        "            X (np.ndarray): N x 5 dimensional ndarray of inputs.\n",
        "            y (np.ndarray): N x 1 dimensional array of true labels.\n",
        "            epochs (int): # of epochs to train the network for. \n",
        "            \n",
        "            return:\n",
        "            \n",
        "            none.\n",
        "        \"\"\"\n",
        "        # TO-DO\n",
        "        for i in range(epochs):\n",
        "            X, y = shuffle(X, y)\n",
        "            for j in range(0,len(y),self.batch_size):\n",
        "                y_hat = self.forward(X[j:j+self.batch_size])\n",
        "                l1_grad, l2_grad = self.backward(y[j:j+self.batch_size], y_hat)\n",
        "                self.update(l1_grad, l2_grad)\n",
        "        #raise NotImplementedError()\n",
        "            \n",
        "    def test(self, X_test, y_test):\n",
        "        \"\"\"\n",
        "            Implement the test function which reports accuracy of \n",
        "            the model on the test set X_test against the true labels\n",
        "            y_test.\n",
        "            \n",
        "            You may re-use the predict and accuracy functions defined above.\n",
        "            \n",
        "            params:\n",
        "            \n",
        "            X_test (np.ndarray): N x M dimensional array where M is the \n",
        "                number of attributes considered for training the model.\n",
        "            y_test (np.ndarray): N x 1 dimensional array.\n",
        "            \n",
        "            return:\n",
        "            \n",
        "            accuracy (double): accuracy of the predicted labels against the \n",
        "                groundtruth labels.\n",
        "        \"\"\"\n",
        "        y_hat = self.predict(X_test)\n",
        "        return self.accuracy(y_test, y_hat)\n",
        "        #raise NotImplementedError()\n",
        "    \n",
        "    @classmethod\n",
        "    def accuracy(self, y, y_hat):\n",
        "        len_ = y.flatten().shape[0]\n",
        "        return np.sum(y.flatten() == y_hat.flatten())/len_\n",
        "\n",
        "    "
      ],
      "execution_count": 0,
      "outputs": []
    },
    {
      "cell_type": "code",
      "metadata": {
        "id": "0wq3Gu55T7fd",
        "colab_type": "code",
        "outputId": "6657c8f3-92a9-40ad-cc92-6517f7893253",
        "colab": {
          "base_uri": "https://localhost:8080/",
          "height": 119
        }
      },
      "source": [
        "import unittest\n",
        "from sklearn.datasets import make_classification\n",
        "\n",
        "def load_params(path, model):\n",
        "    \n",
        "    params = pickle.load(open(path, 'rb'))\n",
        "    for key in params:\n",
        "        model.__dict__[key] = params[key]\n",
        "\n",
        "class TestMLP(unittest.TestCase):\n",
        "    def setUp(self):\n",
        "        \n",
        "        self.net = MLP()\n",
        "        self.pre_trained_model = load_params(\"./res/mlp.pkl\", self.net)\n",
        "        self.X = np.load(\"./res/x.npy\")\n",
        "        self.y = np.load(\"./res/y.npy\")\n",
        "        self.p = np.load(\"./res/p.npy\")\n",
        "        self.sigX = np.asarray([-1, -2, -3, 0, 1, 2, 3])\n",
        "    \n",
        "    def test_forward(self):\n",
        "        self.assertEqual(np.sum(self.net.forward(self.X[901:])), np.sum(self.p))\n",
        "    \n",
        "    def test_train(self):\n",
        "        x, y = make_classification(\n",
        "            n_samples=1000,\n",
        "            n_features=5,\n",
        "            n_redundant=0,\n",
        "            random_state=rndg\n",
        "        )\n",
        "        net = MLP(5, 5, 1, 7, 0.01)\n",
        "        net.train(self.X[:900], self.y[:900], 100)\n",
        "        self.assertTrue(net.accuracy(net.predict(self.X[901:]), self.y[901:]) > 0.88)\n",
        "    \n",
        "    def test_sigmoid(self):\n",
        "        self.assertEqual(\n",
        "            np.sum(self.net.sigmoid(self.sigX)), 3.5\n",
        "        )\n",
        "        \n",
        "suite = unittest.TestLoader().loadTestsFromTestCase(TestMLP)\n",
        "unittest.TextTestRunner().run(suite)"
      ],
      "execution_count": 0,
      "outputs": [
        {
          "output_type": "stream",
          "text": [
            "...\n",
            "----------------------------------------------------------------------\n",
            "Ran 3 tests in 0.985s\n",
            "\n",
            "OK\n"
          ],
          "name": "stderr"
        },
        {
          "output_type": "execute_result",
          "data": {
            "text/plain": [
              "<unittest.runner.TextTestResult run=3 errors=0 failures=0>"
            ]
          },
          "metadata": {
            "tags": []
          },
          "execution_count": 5
        }
      ]
    },
    {
      "cell_type": "markdown",
      "metadata": {
        "id": "9Vz1_I7fT7fj",
        "colab_type": "text"
      },
      "source": [
        "**PART 2.B**\n",
        "\n",
        "Report the baseline performance of the untrained MLP that you built in **PART 2.A** using the selected values. To calculate the baseline score, feed-forward entire test set through the test function. The test function will return a set of predictions. Calculate the accuracy of these predictions against ground truth training lables.  \n",
        "Report:\n",
        "1. accuracy"
      ]
    },
    {
      "cell_type": "code",
      "metadata": {
        "id": "lVk8uZW5T7fk",
        "colab_type": "code",
        "outputId": "9a2b659b-be66-4761-d8c3-a5a20a3ad917",
        "colab": {
          "base_uri": "https://localhost:8080/",
          "height": 71
        }
      },
      "source": [
        "### Part 2.B\n",
        "mlp = MLP()\n",
        "baseline_score = mlp.test(X_test.T[1:].T, y_test)\n",
        "print (baseline_score)"
      ],
      "execution_count": 0,
      "outputs": [
        {
          "output_type": "stream",
          "text": [
            "0.20368098159509201\n"
          ],
          "name": "stdout"
        },
        {
          "output_type": "stream",
          "text": [
            "/usr/local/lib/python3.6/dist-packages/ipykernel_launcher.py:71: RuntimeWarning: overflow encountered in exp\n"
          ],
          "name": "stderr"
        }
      ]
    },
    {
      "cell_type": "markdown",
      "metadata": {
        "id": "_E2aE1naT7fn",
        "colab_type": "text"
      },
      "source": [
        "**PART 2.C**\n",
        "\n",
        "Select a learning rate, batch size and train the network for 100 epochs. Plot a graph of network's accuracy on the test data as a function of epoch. On the same graph, plot a constant horizontal line of the baseline score that you reported in **PART 2.B**.  \n",
        "\n",
        "Report:\n",
        "1. learning rate\n",
        "2. batch size"
      ]
    },
    {
      "cell_type": "code",
      "metadata": {
        "id": "a6pu8gvaT7fo",
        "colab_type": "code",
        "outputId": "2c1903ee-df9b-4cd0-fa60-e2815eb6966a",
        "colab": {
          "base_uri": "https://localhost:8080/",
          "height": 1000
        }
      },
      "source": [
        "### Part 2.C\n",
        "mlp = MLP(batch_size=10, lr=0.0005)\n",
        "acc = []\n",
        "epochs = [i+1 for i in range(100)]\n",
        "for i in epochs:\n",
        "    mlp.train(X_train.T[1:].T, y_train, i)\n",
        "    acc.append(mlp.test(X_test.T[1:].T, y_test))\n",
        "    print (i, acc[-1])"
      ],
      "execution_count": 0,
      "outputs": [
        {
          "output_type": "stream",
          "text": [
            "/usr/local/lib/python3.6/dist-packages/ipykernel_launcher.py:71: RuntimeWarning: overflow encountered in exp\n"
          ],
          "name": "stderr"
        },
        {
          "output_type": "stream",
          "text": [
            "1 0.9300613496932515\n",
            "2 0.8957055214723927\n",
            "3 0.905521472392638\n",
            "4 0.9079754601226994\n",
            "5 0.9153374233128835\n",
            "6 0.9165644171779141\n",
            "7 0.9165644171779141\n",
            "8 0.9153374233128835\n",
            "9 0.9165644171779141\n",
            "10 0.9153374233128835\n",
            "11 0.9153374233128835\n",
            "12 0.9325153374233128\n",
            "13 0.9300613496932515\n",
            "14 0.9312883435582822\n",
            "15 0.9300613496932515\n",
            "16 0.9312883435582822\n",
            "17 0.9349693251533743\n",
            "18 0.9300613496932515\n",
            "19 0.9312883435582822\n",
            "20 0.9312883435582822\n",
            "21 0.9361963190184049\n",
            "22 0.9361963190184049\n",
            "23 0.9276073619631902\n",
            "24 0.9349693251533743\n",
            "25 0.9288343558282208\n",
            "26 0.9312883435582822\n",
            "27 0.9374233128834356\n",
            "28 0.9337423312883436\n",
            "29 0.9374233128834356\n",
            "30 0.9374233128834356\n",
            "31 0.9361963190184049\n",
            "32 0.9361963190184049\n",
            "33 0.9361963190184049\n",
            "34 0.9411042944785276\n",
            "35 0.943558282208589\n",
            "36 0.9705521472392638\n",
            "37 0.9693251533742331\n",
            "38 0.9165644171779141\n",
            "39 0.9153374233128835\n",
            "40 0.9300613496932515\n",
            "41 0.9300613496932515\n",
            "42 0.9276073619631902\n",
            "43 0.9300613496932515\n",
            "44 0.9300613496932515\n",
            "45 0.9300613496932515\n",
            "46 0.9300613496932515\n",
            "47 0.9300613496932515\n",
            "48 0.9300613496932515\n",
            "49 0.9730061349693252\n",
            "50 0.9300613496932515\n",
            "51 0.9300613496932515\n",
            "52 0.9300613496932515\n",
            "53 0.9312883435582822\n",
            "54 0.9276073619631902\n",
            "55 0.9312883435582822\n",
            "56 0.9312883435582822\n",
            "57 0.9263803680981595\n",
            "58 0.9312883435582822\n",
            "59 0.9349693251533743\n",
            "60 0.9226993865030675\n",
            "61 0.9312883435582822\n",
            "62 0.9374233128834356\n",
            "63 0.9374233128834356\n",
            "64 0.9312883435582822\n",
            "65 0.943558282208589\n",
            "66 0.7963190184049079\n",
            "67 0.7963190184049079\n",
            "68 0.7963190184049079\n",
            "69 0.7963190184049079\n",
            "70 0.7963190184049079\n",
            "71 0.7963190184049079\n",
            "72 0.7963190184049079\n",
            "73 0.7963190184049079\n",
            "74 0.7963190184049079\n",
            "75 0.7963190184049079\n",
            "76 0.7963190184049079\n",
            "77 0.7963190184049079\n",
            "78 0.7963190184049079\n",
            "79 0.7963190184049079\n",
            "80 0.7963190184049079\n",
            "81 0.7963190184049079\n",
            "82 0.7963190184049079\n",
            "83 0.7963190184049079\n",
            "84 0.7963190184049079\n",
            "85 0.7963190184049079\n",
            "86 0.7963190184049079\n",
            "87 0.7963190184049079\n",
            "88 0.7963190184049079\n",
            "89 0.7963190184049079\n",
            "90 0.7963190184049079\n",
            "91 0.7963190184049079\n",
            "92 0.7963190184049079\n",
            "93 0.7963190184049079\n",
            "94 0.7963190184049079\n",
            "95 0.7963190184049079\n",
            "96 0.7963190184049079\n",
            "97 0.7963190184049079\n",
            "98 0.7963190184049079\n",
            "99 0.7963190184049079\n",
            "100 0.7963190184049079\n"
          ],
          "name": "stdout"
        }
      ]
    },
    {
      "cell_type": "code",
      "metadata": {
        "id": "v2pU8-PH7dYk",
        "colab_type": "code",
        "outputId": "412b901d-6fb4-4aef-cd88-8e88da11a8ca",
        "colab": {
          "base_uri": "https://localhost:8080/",
          "height": 295
        }
      },
      "source": [
        "plt.plot(epochs, acc, label='MLP')\n",
        "plt.plot(epochs, [baseline_score]*len(epochs), label='Baseline')\n",
        "plt.xlabel('Epochs')\n",
        "plt.ylabel('Accuracy')\n",
        "plt.title('Batch-Size=10, Learning Rate=0.0005')\n",
        "plt.legend()\n",
        "plt.show()"
      ],
      "execution_count": 0,
      "outputs": [
        {
          "output_type": "display_data",
          "data": {
            "image/png": "[encoded data removed]",
            "text/plain": [
              "<Figure size 432x288 with 1 Axes>"
            ]
          },
          "metadata": {
            "tags": []
          }
        }
      ]
    },
    {
      "cell_type": "markdown",
      "metadata": {
        "id": "8NTKtcEFT7fs",
        "colab_type": "text"
      },
      "source": [
        "**PART 2.D**\n",
        "\n",
        "Now train nets with varying size of the hidden layer $H={1, 2, 5, 10..}$ for max epochs = 100. Make a plot of the nets' accuracy on test set as a function of $H$."
      ]
    },
    {
      "cell_type": "code",
      "metadata": {
        "id": "cdBosd9tT7ft",
        "colab_type": "code",
        "outputId": "43964baa-ebb9-40dd-9042-ec08169a65ca",
        "colab": {
          "base_uri": "https://localhost:8080/",
          "height": 207
        }
      },
      "source": [
        "### Part 2.D\n",
        "H = [1, 2, 5, 10, 15, 20, 25, 35, 50]\n",
        "acc_h = []\n",
        "for h in H:\n",
        "    mlp_h = MLP(n_hid=h, batch_size=10, lr=0.0005)\n",
        "    mlp_h.train(X_train.T[1:].T, y_train, 100)\n",
        "    acc_h.append(mlp_h.test(X_test.T[1:].T, y_test))\n",
        "    print (h, acc_h[-1])"
      ],
      "execution_count": 0,
      "outputs": [
        {
          "output_type": "stream",
          "text": [
            "/usr/local/lib/python3.6/dist-packages/ipykernel_launcher.py:71: RuntimeWarning: overflow encountered in exp\n"
          ],
          "name": "stderr"
        },
        {
          "output_type": "stream",
          "text": [
            "1 0.7963190184049079\n",
            "2 0.9312883435582822\n",
            "5 0.9288343558282208\n",
            "10 0.9288343558282208\n",
            "15 0.9312883435582822\n",
            "20 0.9276073619631902\n",
            "25 0.9325153374233128\n",
            "35 0.9288343558282208\n",
            "50 0.9239263803680982\n"
          ],
          "name": "stdout"
        }
      ]
    },
    {
      "cell_type": "code",
      "metadata": {
        "id": "irOUTbuT7iCD",
        "colab_type": "code",
        "outputId": "c8c54c9e-dd9f-422a-bdcb-c2714cd12e88",
        "colab": {
          "base_uri": "https://localhost:8080/",
          "height": 295
        }
      },
      "source": [
        "plt.plot(H, acc_h)\n",
        "plt.xlabel('Hidden Layer Neurons')\n",
        "plt.ylabel('Accuracy')\n",
        "plt.title('Batch-Size=10, Learning Rate=0.0005')\n",
        "plt.show()"
      ],
      "execution_count": 0,
      "outputs": [
        {
          "output_type": "display_data",
          "data": {
            "image/png": "[encoded data removed]",
            "text/plain": [
              "<Figure size 432x288 with 1 Axes>"
            ]
          },
          "metadata": {
            "tags": []
          }
        }
      ]
    },
    {
      "cell_type": "markdown",
      "metadata": {
        "id": "8FWfo0pFT7fx",
        "colab_type": "text"
      },
      "source": [
        "### 3. Extra Credit"
      ]
    },
    {
      "cell_type": "markdown",
      "metadata": {
        "id": "XasvG01kT7fy",
        "colab_type": "text"
      },
      "source": [
        "See how much adding information about time of day helps the network. Add a new set of inputs that represent the time of day. (Don't add information about day of week or absolute date.)  \n",
        "\n",
        "\n",
        "**PART 3.A**  \n",
        "\n",
        "Determine an appropriate representation for the time of day. Describe the representation you used. For example, you might add one unit with a value ranging from 0 to 1 for times ranging from 00:00 to 23:59. Report the representation you selected.\n"
      ]
    },
    {
      "cell_type": "code",
      "metadata": {
        "id": "cRw3vgbjT7fz",
        "colab_type": "code",
        "colab": {}
      },
      "source": [
        "### Part 3.A\n",
        "import datetime\n",
        "import math\n",
        "\n",
        "for i in range(len(X.T[0])):\n",
        "    time = datetime.datetime.strptime(X.T[0][i].split()[1], '%H:%M:%S')\n",
        "    X.T[0][i] = abs(time-datetime.datetime(1970,1,1)).total_seconds()\n",
        "\n",
        "# Normalize the times using the minimum time\n",
        "minm = np.amin(X.T[0])\n",
        "X.T[0] = X.T[0] - minm\n",
        "maxm = np.amax(X.T[0])\n",
        "X.T[0] = X.T[0] / maxm\n",
        "\n",
        "X_train, X_test, y_train, y_test = train_test_split(X, y, test_size=0.1)"
      ],
      "execution_count": 0,
      "outputs": []
    },
    {
      "cell_type": "markdown",
      "metadata": {
        "id": "v8vPxVJTT7f2",
        "colab_type": "text"
      },
      "source": [
        "**PART 3.B**  \n",
        "\n",
        "Train your net with $H=5$ hidden and compare training and test set performance to the net you built in (2c)"
      ]
    },
    {
      "cell_type": "code",
      "metadata": {
        "id": "Qfpl7ajjT7f3",
        "colab_type": "code",
        "outputId": "f718386a-760d-47ee-f19d-909cab4e7d5e",
        "colab": {
          "base_uri": "https://localhost:8080/",
          "height": 54
        }
      },
      "source": [
        "### Part 3.B\n",
        "mlp_time = MLP(n_vis=6, batch_size=10, lr=0.0005)\n",
        "mlp_time.train(X_train, y_train, 100)\n",
        "acc_time_test = mlp_time.test(X_test, y_test)\n",
        "acc_time_train = mlp_time.test(X_test, y_test)\n",
        "acc_train = mlp.test(X_train.T[1:].T, y_train)\n",
        "acc_test = mlp.test(X_test.T[1:].T, y_test)\n",
        "\n",
        "X = data[['date', 'Humidity', 'Light', 'CO2', 'HumidityRatio', 'Temperature']].values\n",
        "y = data['Occupancy'].values"
      ],
      "execution_count": 0,
      "outputs": [
        {
          "output_type": "stream",
          "text": [
            "/usr/local/lib/python3.6/dist-packages/ipykernel_launcher.py:71: RuntimeWarning: overflow encountered in exp\n"
          ],
          "name": "stderr"
        }
      ]
    },
    {
      "cell_type": "code",
      "metadata": {
        "id": "lWFEKhikT7f7",
        "colab_type": "code",
        "outputId": "98afc654-5017-4574-f85b-4cb16f0a32d8",
        "colab": {
          "base_uri": "https://localhost:8080/",
          "height": 323
        }
      },
      "source": [
        "print (\"\\nTRAIN ACCURACY\\n\")\n",
        "print (\"H=5, Features=5\")\n",
        "print (acc_train,\"\\n\")\n",
        "print (\"H=5, Features=6\")\n",
        "print (acc_time_train,\"\\n\")\n",
        "print (\"\\nTEST ACCURACY\\n\")\n",
        "print (\"H=5, Features=5\")\n",
        "print (acc_test,\"\\n\")\n",
        "print (\"H=5, Features=6\")\n",
        "print (acc_time_test,\"\\n\")"
      ],
      "execution_count": 0,
      "outputs": [
        {
          "output_type": "stream",
          "text": [
            "\n",
            "TRAIN ACCURACY\n",
            "\n",
            "H=5, Features=5\n",
            "0.7876637554585153 \n",
            "\n",
            "H=5, Features=6\n",
            "0.9226993865030675 \n",
            "\n",
            "\n",
            "TEST ACCURACY\n",
            "\n",
            "H=5, Features=5\n",
            "0.7840490797546013 \n",
            "\n",
            "H=5, Features=6\n",
            "0.9226993865030675 \n",
            "\n"
          ],
          "name": "stdout"
        }
      ]
    },
    {
      "cell_type": "code",
      "metadata": {
        "id": "GyJOlUofC5hq",
        "colab_type": "code",
        "colab": {}
      },
      "source": [
        ""
      ],
      "execution_count": 0,
      "outputs": []
    }
  ]
}